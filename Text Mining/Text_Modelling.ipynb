{
  "nbformat": 4,
  "nbformat_minor": 0,
  "metadata": {
    "colab": {
      "provenance": [],
      "gpuType": "T4"
    },
    "kernelspec": {
      "name": "python3",
      "display_name": "Python 3"
    },
    "language_info": {
      "name": "python"
    },
    "accelerator": "GPU",
    "widgets": {
      "application/vnd.jupyter.widget-state+json": {
        "0866c0f4e50f4d829ee7257bc42cd723": {
          "model_module": "@jupyter-widgets/controls",
          "model_name": "HBoxModel",
          "model_module_version": "1.5.0",
          "state": {
            "_dom_classes": [],
            "_model_module": "@jupyter-widgets/controls",
            "_model_module_version": "1.5.0",
            "_model_name": "HBoxModel",
            "_view_count": null,
            "_view_module": "@jupyter-widgets/controls",
            "_view_module_version": "1.5.0",
            "_view_name": "HBoxView",
            "box_style": "",
            "children": [
              "IPY_MODEL_3b6bb79758b94d78a810a8b22ede1f64",
              "IPY_MODEL_3fcfd6c01f69490b990fc784276da5ab",
              "IPY_MODEL_4d18bd33e99745e4aaf1a916cd2aff08"
            ],
            "layout": "IPY_MODEL_fea676d7cb564bdabee73276983e4c8d"
          }
        },
        "3b6bb79758b94d78a810a8b22ede1f64": {
          "model_module": "@jupyter-widgets/controls",
          "model_name": "HTMLModel",
          "model_module_version": "1.5.0",
          "state": {
            "_dom_classes": [],
            "_model_module": "@jupyter-widgets/controls",
            "_model_module_version": "1.5.0",
            "_model_name": "HTMLModel",
            "_view_count": null,
            "_view_module": "@jupyter-widgets/controls",
            "_view_module_version": "1.5.0",
            "_view_name": "HTMLView",
            "description": "",
            "description_tooltip": null,
            "layout": "IPY_MODEL_f7dea52d57534a339a385c856916cd5c",
            "placeholder": "​",
            "style": "IPY_MODEL_95a12301020f4f3698f15ed302fa7af1",
            "value": "Downloading (…)solve/main/vocab.txt: 100%"
          }
        },
        "3fcfd6c01f69490b990fc784276da5ab": {
          "model_module": "@jupyter-widgets/controls",
          "model_name": "FloatProgressModel",
          "model_module_version": "1.5.0",
          "state": {
            "_dom_classes": [],
            "_model_module": "@jupyter-widgets/controls",
            "_model_module_version": "1.5.0",
            "_model_name": "FloatProgressModel",
            "_view_count": null,
            "_view_module": "@jupyter-widgets/controls",
            "_view_module_version": "1.5.0",
            "_view_name": "ProgressView",
            "bar_style": "success",
            "description": "",
            "description_tooltip": null,
            "layout": "IPY_MODEL_c290fd460aee4b3bbd873201ca9800b4",
            "max": 213450,
            "min": 0,
            "orientation": "horizontal",
            "style": "IPY_MODEL_261e73096a68465692506bc4bdbf98ef",
            "value": 213450
          }
        },
        "4d18bd33e99745e4aaf1a916cd2aff08": {
          "model_module": "@jupyter-widgets/controls",
          "model_name": "HTMLModel",
          "model_module_version": "1.5.0",
          "state": {
            "_dom_classes": [],
            "_model_module": "@jupyter-widgets/controls",
            "_model_module_version": "1.5.0",
            "_model_name": "HTMLModel",
            "_view_count": null,
            "_view_module": "@jupyter-widgets/controls",
            "_view_module_version": "1.5.0",
            "_view_name": "HTMLView",
            "description": "",
            "description_tooltip": null,
            "layout": "IPY_MODEL_5d72ca6d4d344ccc8c7cabcd998c28ed",
            "placeholder": "​",
            "style": "IPY_MODEL_3bc5bcffbd3e47d4af664d2b8fd27879",
            "value": " 213k/213k [00:00&lt;00:00, 3.70MB/s]"
          }
        },
        "fea676d7cb564bdabee73276983e4c8d": {
          "model_module": "@jupyter-widgets/base",
          "model_name": "LayoutModel",
          "model_module_version": "1.2.0",
          "state": {
            "_model_module": "@jupyter-widgets/base",
            "_model_module_version": "1.2.0",
            "_model_name": "LayoutModel",
            "_view_count": null,
            "_view_module": "@jupyter-widgets/base",
            "_view_module_version": "1.2.0",
            "_view_name": "LayoutView",
            "align_content": null,
            "align_items": null,
            "align_self": null,
            "border": null,
            "bottom": null,
            "display": null,
            "flex": null,
            "flex_flow": null,
            "grid_area": null,
            "grid_auto_columns": null,
            "grid_auto_flow": null,
            "grid_auto_rows": null,
            "grid_column": null,
            "grid_gap": null,
            "grid_row": null,
            "grid_template_areas": null,
            "grid_template_columns": null,
            "grid_template_rows": null,
            "height": null,
            "justify_content": null,
            "justify_items": null,
            "left": null,
            "margin": null,
            "max_height": null,
            "max_width": null,
            "min_height": null,
            "min_width": null,
            "object_fit": null,
            "object_position": null,
            "order": null,
            "overflow": null,
            "overflow_x": null,
            "overflow_y": null,
            "padding": null,
            "right": null,
            "top": null,
            "visibility": null,
            "width": null
          }
        },
        "f7dea52d57534a339a385c856916cd5c": {
          "model_module": "@jupyter-widgets/base",
          "model_name": "LayoutModel",
          "model_module_version": "1.2.0",
          "state": {
            "_model_module": "@jupyter-widgets/base",
            "_model_module_version": "1.2.0",
            "_model_name": "LayoutModel",
            "_view_count": null,
            "_view_module": "@jupyter-widgets/base",
            "_view_module_version": "1.2.0",
            "_view_name": "LayoutView",
            "align_content": null,
            "align_items": null,
            "align_self": null,
            "border": null,
            "bottom": null,
            "display": null,
            "flex": null,
            "flex_flow": null,
            "grid_area": null,
            "grid_auto_columns": null,
            "grid_auto_flow": null,
            "grid_auto_rows": null,
            "grid_column": null,
            "grid_gap": null,
            "grid_row": null,
            "grid_template_areas": null,
            "grid_template_columns": null,
            "grid_template_rows": null,
            "height": null,
            "justify_content": null,
            "justify_items": null,
            "left": null,
            "margin": null,
            "max_height": null,
            "max_width": null,
            "min_height": null,
            "min_width": null,
            "object_fit": null,
            "object_position": null,
            "order": null,
            "overflow": null,
            "overflow_x": null,
            "overflow_y": null,
            "padding": null,
            "right": null,
            "top": null,
            "visibility": null,
            "width": null
          }
        },
        "95a12301020f4f3698f15ed302fa7af1": {
          "model_module": "@jupyter-widgets/controls",
          "model_name": "DescriptionStyleModel",
          "model_module_version": "1.5.0",
          "state": {
            "_model_module": "@jupyter-widgets/controls",
            "_model_module_version": "1.5.0",
            "_model_name": "DescriptionStyleModel",
            "_view_count": null,
            "_view_module": "@jupyter-widgets/base",
            "_view_module_version": "1.2.0",
            "_view_name": "StyleView",
            "description_width": ""
          }
        },
        "c290fd460aee4b3bbd873201ca9800b4": {
          "model_module": "@jupyter-widgets/base",
          "model_name": "LayoutModel",
          "model_module_version": "1.2.0",
          "state": {
            "_model_module": "@jupyter-widgets/base",
            "_model_module_version": "1.2.0",
            "_model_name": "LayoutModel",
            "_view_count": null,
            "_view_module": "@jupyter-widgets/base",
            "_view_module_version": "1.2.0",
            "_view_name": "LayoutView",
            "align_content": null,
            "align_items": null,
            "align_self": null,
            "border": null,
            "bottom": null,
            "display": null,
            "flex": null,
            "flex_flow": null,
            "grid_area": null,
            "grid_auto_columns": null,
            "grid_auto_flow": null,
            "grid_auto_rows": null,
            "grid_column": null,
            "grid_gap": null,
            "grid_row": null,
            "grid_template_areas": null,
            "grid_template_columns": null,
            "grid_template_rows": null,
            "height": null,
            "justify_content": null,
            "justify_items": null,
            "left": null,
            "margin": null,
            "max_height": null,
            "max_width": null,
            "min_height": null,
            "min_width": null,
            "object_fit": null,
            "object_position": null,
            "order": null,
            "overflow": null,
            "overflow_x": null,
            "overflow_y": null,
            "padding": null,
            "right": null,
            "top": null,
            "visibility": null,
            "width": null
          }
        },
        "261e73096a68465692506bc4bdbf98ef": {
          "model_module": "@jupyter-widgets/controls",
          "model_name": "ProgressStyleModel",
          "model_module_version": "1.5.0",
          "state": {
            "_model_module": "@jupyter-widgets/controls",
            "_model_module_version": "1.5.0",
            "_model_name": "ProgressStyleModel",
            "_view_count": null,
            "_view_module": "@jupyter-widgets/base",
            "_view_module_version": "1.2.0",
            "_view_name": "StyleView",
            "bar_color": null,
            "description_width": ""
          }
        },
        "5d72ca6d4d344ccc8c7cabcd998c28ed": {
          "model_module": "@jupyter-widgets/base",
          "model_name": "LayoutModel",
          "model_module_version": "1.2.0",
          "state": {
            "_model_module": "@jupyter-widgets/base",
            "_model_module_version": "1.2.0",
            "_model_name": "LayoutModel",
            "_view_count": null,
            "_view_module": "@jupyter-widgets/base",
            "_view_module_version": "1.2.0",
            "_view_name": "LayoutView",
            "align_content": null,
            "align_items": null,
            "align_self": null,
            "border": null,
            "bottom": null,
            "display": null,
            "flex": null,
            "flex_flow": null,
            "grid_area": null,
            "grid_auto_columns": null,
            "grid_auto_flow": null,
            "grid_auto_rows": null,
            "grid_column": null,
            "grid_gap": null,
            "grid_row": null,
            "grid_template_areas": null,
            "grid_template_columns": null,
            "grid_template_rows": null,
            "height": null,
            "justify_content": null,
            "justify_items": null,
            "left": null,
            "margin": null,
            "max_height": null,
            "max_width": null,
            "min_height": null,
            "min_width": null,
            "object_fit": null,
            "object_position": null,
            "order": null,
            "overflow": null,
            "overflow_x": null,
            "overflow_y": null,
            "padding": null,
            "right": null,
            "top": null,
            "visibility": null,
            "width": null
          }
        },
        "3bc5bcffbd3e47d4af664d2b8fd27879": {
          "model_module": "@jupyter-widgets/controls",
          "model_name": "DescriptionStyleModel",
          "model_module_version": "1.5.0",
          "state": {
            "_model_module": "@jupyter-widgets/controls",
            "_model_module_version": "1.5.0",
            "_model_name": "DescriptionStyleModel",
            "_view_count": null,
            "_view_module": "@jupyter-widgets/base",
            "_view_module_version": "1.2.0",
            "_view_name": "StyleView",
            "description_width": ""
          }
        },
        "a2248b34da56436bac474e9053c34a06": {
          "model_module": "@jupyter-widgets/controls",
          "model_name": "HBoxModel",
          "model_module_version": "1.5.0",
          "state": {
            "_dom_classes": [],
            "_model_module": "@jupyter-widgets/controls",
            "_model_module_version": "1.5.0",
            "_model_name": "HBoxModel",
            "_view_count": null,
            "_view_module": "@jupyter-widgets/controls",
            "_view_module_version": "1.5.0",
            "_view_name": "HBoxView",
            "box_style": "",
            "children": [
              "IPY_MODEL_ad03b12c8fff4cb2a88f76cae670ee65",
              "IPY_MODEL_57e3c3231ff643bcb5b80e0fe4606e7b",
              "IPY_MODEL_463c07e2b4f247d8a6f46af093260ce4"
            ],
            "layout": "IPY_MODEL_5e8a2afa1fb64785ba9fe709fd5b59ed"
          }
        },
        "ad03b12c8fff4cb2a88f76cae670ee65": {
          "model_module": "@jupyter-widgets/controls",
          "model_name": "HTMLModel",
          "model_module_version": "1.5.0",
          "state": {
            "_dom_classes": [],
            "_model_module": "@jupyter-widgets/controls",
            "_model_module_version": "1.5.0",
            "_model_name": "HTMLModel",
            "_view_count": null,
            "_view_module": "@jupyter-widgets/controls",
            "_view_module_version": "1.5.0",
            "_view_name": "HTMLView",
            "description": "",
            "description_tooltip": null,
            "layout": "IPY_MODEL_8ddcaf9a64c54d5c96965c7c3e09d20b",
            "placeholder": "​",
            "style": "IPY_MODEL_f60d0ca3b939423e9dc479092735d45e",
            "value": "Downloading (…)okenizer_config.json: 100%"
          }
        },
        "57e3c3231ff643bcb5b80e0fe4606e7b": {
          "model_module": "@jupyter-widgets/controls",
          "model_name": "FloatProgressModel",
          "model_module_version": "1.5.0",
          "state": {
            "_dom_classes": [],
            "_model_module": "@jupyter-widgets/controls",
            "_model_module_version": "1.5.0",
            "_model_name": "FloatProgressModel",
            "_view_count": null,
            "_view_module": "@jupyter-widgets/controls",
            "_view_module_version": "1.5.0",
            "_view_name": "ProgressView",
            "bar_style": "success",
            "description": "",
            "description_tooltip": null,
            "layout": "IPY_MODEL_60c5e4572c4344fcb20feb6f0df7b965",
            "max": 29,
            "min": 0,
            "orientation": "horizontal",
            "style": "IPY_MODEL_4f89da8539fe4d2ebaf46a85d3e64563",
            "value": 29
          }
        },
        "463c07e2b4f247d8a6f46af093260ce4": {
          "model_module": "@jupyter-widgets/controls",
          "model_name": "HTMLModel",
          "model_module_version": "1.5.0",
          "state": {
            "_dom_classes": [],
            "_model_module": "@jupyter-widgets/controls",
            "_model_module_version": "1.5.0",
            "_model_name": "HTMLModel",
            "_view_count": null,
            "_view_module": "@jupyter-widgets/controls",
            "_view_module_version": "1.5.0",
            "_view_name": "HTMLView",
            "description": "",
            "description_tooltip": null,
            "layout": "IPY_MODEL_e61db61f42cc4a5586708a0b51326748",
            "placeholder": "​",
            "style": "IPY_MODEL_4f9edf2eaa504de9918f9881cad5a52a",
            "value": " 29.0/29.0 [00:00&lt;00:00, 1.13kB/s]"
          }
        },
        "5e8a2afa1fb64785ba9fe709fd5b59ed": {
          "model_module": "@jupyter-widgets/base",
          "model_name": "LayoutModel",
          "model_module_version": "1.2.0",
          "state": {
            "_model_module": "@jupyter-widgets/base",
            "_model_module_version": "1.2.0",
            "_model_name": "LayoutModel",
            "_view_count": null,
            "_view_module": "@jupyter-widgets/base",
            "_view_module_version": "1.2.0",
            "_view_name": "LayoutView",
            "align_content": null,
            "align_items": null,
            "align_self": null,
            "border": null,
            "bottom": null,
            "display": null,
            "flex": null,
            "flex_flow": null,
            "grid_area": null,
            "grid_auto_columns": null,
            "grid_auto_flow": null,
            "grid_auto_rows": null,
            "grid_column": null,
            "grid_gap": null,
            "grid_row": null,
            "grid_template_areas": null,
            "grid_template_columns": null,
            "grid_template_rows": null,
            "height": null,
            "justify_content": null,
            "justify_items": null,
            "left": null,
            "margin": null,
            "max_height": null,
            "max_width": null,
            "min_height": null,
            "min_width": null,
            "object_fit": null,
            "object_position": null,
            "order": null,
            "overflow": null,
            "overflow_x": null,
            "overflow_y": null,
            "padding": null,
            "right": null,
            "top": null,
            "visibility": null,
            "width": null
          }
        },
        "8ddcaf9a64c54d5c96965c7c3e09d20b": {
          "model_module": "@jupyter-widgets/base",
          "model_name": "LayoutModel",
          "model_module_version": "1.2.0",
          "state": {
            "_model_module": "@jupyter-widgets/base",
            "_model_module_version": "1.2.0",
            "_model_name": "LayoutModel",
            "_view_count": null,
            "_view_module": "@jupyter-widgets/base",
            "_view_module_version": "1.2.0",
            "_view_name": "LayoutView",
            "align_content": null,
            "align_items": null,
            "align_self": null,
            "border": null,
            "bottom": null,
            "display": null,
            "flex": null,
            "flex_flow": null,
            "grid_area": null,
            "grid_auto_columns": null,
            "grid_auto_flow": null,
            "grid_auto_rows": null,
            "grid_column": null,
            "grid_gap": null,
            "grid_row": null,
            "grid_template_areas": null,
            "grid_template_columns": null,
            "grid_template_rows": null,
            "height": null,
            "justify_content": null,
            "justify_items": null,
            "left": null,
            "margin": null,
            "max_height": null,
            "max_width": null,
            "min_height": null,
            "min_width": null,
            "object_fit": null,
            "object_position": null,
            "order": null,
            "overflow": null,
            "overflow_x": null,
            "overflow_y": null,
            "padding": null,
            "right": null,
            "top": null,
            "visibility": null,
            "width": null
          }
        },
        "f60d0ca3b939423e9dc479092735d45e": {
          "model_module": "@jupyter-widgets/controls",
          "model_name": "DescriptionStyleModel",
          "model_module_version": "1.5.0",
          "state": {
            "_model_module": "@jupyter-widgets/controls",
            "_model_module_version": "1.5.0",
            "_model_name": "DescriptionStyleModel",
            "_view_count": null,
            "_view_module": "@jupyter-widgets/base",
            "_view_module_version": "1.2.0",
            "_view_name": "StyleView",
            "description_width": ""
          }
        },
        "60c5e4572c4344fcb20feb6f0df7b965": {
          "model_module": "@jupyter-widgets/base",
          "model_name": "LayoutModel",
          "model_module_version": "1.2.0",
          "state": {
            "_model_module": "@jupyter-widgets/base",
            "_model_module_version": "1.2.0",
            "_model_name": "LayoutModel",
            "_view_count": null,
            "_view_module": "@jupyter-widgets/base",
            "_view_module_version": "1.2.0",
            "_view_name": "LayoutView",
            "align_content": null,
            "align_items": null,
            "align_self": null,
            "border": null,
            "bottom": null,
            "display": null,
            "flex": null,
            "flex_flow": null,
            "grid_area": null,
            "grid_auto_columns": null,
            "grid_auto_flow": null,
            "grid_auto_rows": null,
            "grid_column": null,
            "grid_gap": null,
            "grid_row": null,
            "grid_template_areas": null,
            "grid_template_columns": null,
            "grid_template_rows": null,
            "height": null,
            "justify_content": null,
            "justify_items": null,
            "left": null,
            "margin": null,
            "max_height": null,
            "max_width": null,
            "min_height": null,
            "min_width": null,
            "object_fit": null,
            "object_position": null,
            "order": null,
            "overflow": null,
            "overflow_x": null,
            "overflow_y": null,
            "padding": null,
            "right": null,
            "top": null,
            "visibility": null,
            "width": null
          }
        },
        "4f89da8539fe4d2ebaf46a85d3e64563": {
          "model_module": "@jupyter-widgets/controls",
          "model_name": "ProgressStyleModel",
          "model_module_version": "1.5.0",
          "state": {
            "_model_module": "@jupyter-widgets/controls",
            "_model_module_version": "1.5.0",
            "_model_name": "ProgressStyleModel",
            "_view_count": null,
            "_view_module": "@jupyter-widgets/base",
            "_view_module_version": "1.2.0",
            "_view_name": "StyleView",
            "bar_color": null,
            "description_width": ""
          }
        },
        "e61db61f42cc4a5586708a0b51326748": {
          "model_module": "@jupyter-widgets/base",
          "model_name": "LayoutModel",
          "model_module_version": "1.2.0",
          "state": {
            "_model_module": "@jupyter-widgets/base",
            "_model_module_version": "1.2.0",
            "_model_name": "LayoutModel",
            "_view_count": null,
            "_view_module": "@jupyter-widgets/base",
            "_view_module_version": "1.2.0",
            "_view_name": "LayoutView",
            "align_content": null,
            "align_items": null,
            "align_self": null,
            "border": null,
            "bottom": null,
            "display": null,
            "flex": null,
            "flex_flow": null,
            "grid_area": null,
            "grid_auto_columns": null,
            "grid_auto_flow": null,
            "grid_auto_rows": null,
            "grid_column": null,
            "grid_gap": null,
            "grid_row": null,
            "grid_template_areas": null,
            "grid_template_columns": null,
            "grid_template_rows": null,
            "height": null,
            "justify_content": null,
            "justify_items": null,
            "left": null,
            "margin": null,
            "max_height": null,
            "max_width": null,
            "min_height": null,
            "min_width": null,
            "object_fit": null,
            "object_position": null,
            "order": null,
            "overflow": null,
            "overflow_x": null,
            "overflow_y": null,
            "padding": null,
            "right": null,
            "top": null,
            "visibility": null,
            "width": null
          }
        },
        "4f9edf2eaa504de9918f9881cad5a52a": {
          "model_module": "@jupyter-widgets/controls",
          "model_name": "DescriptionStyleModel",
          "model_module_version": "1.5.0",
          "state": {
            "_model_module": "@jupyter-widgets/controls",
            "_model_module_version": "1.5.0",
            "_model_name": "DescriptionStyleModel",
            "_view_count": null,
            "_view_module": "@jupyter-widgets/base",
            "_view_module_version": "1.2.0",
            "_view_name": "StyleView",
            "description_width": ""
          }
        },
        "529dbe51cdc5424ea9fb55fe2a7e796b": {
          "model_module": "@jupyter-widgets/controls",
          "model_name": "HBoxModel",
          "model_module_version": "1.5.0",
          "state": {
            "_dom_classes": [],
            "_model_module": "@jupyter-widgets/controls",
            "_model_module_version": "1.5.0",
            "_model_name": "HBoxModel",
            "_view_count": null,
            "_view_module": "@jupyter-widgets/controls",
            "_view_module_version": "1.5.0",
            "_view_name": "HBoxView",
            "box_style": "",
            "children": [
              "IPY_MODEL_c19dabfef57747daa9e9a08aae3949bd",
              "IPY_MODEL_32abf08b9de14910b73220e47bd6cf27",
              "IPY_MODEL_942a09d73c3149a8a476f23f219b7d23"
            ],
            "layout": "IPY_MODEL_35c7244e72144ac6a838b999508fbd56"
          }
        },
        "c19dabfef57747daa9e9a08aae3949bd": {
          "model_module": "@jupyter-widgets/controls",
          "model_name": "HTMLModel",
          "model_module_version": "1.5.0",
          "state": {
            "_dom_classes": [],
            "_model_module": "@jupyter-widgets/controls",
            "_model_module_version": "1.5.0",
            "_model_name": "HTMLModel",
            "_view_count": null,
            "_view_module": "@jupyter-widgets/controls",
            "_view_module_version": "1.5.0",
            "_view_name": "HTMLView",
            "description": "",
            "description_tooltip": null,
            "layout": "IPY_MODEL_eb06021c09fc4b1bb28202f599e83a31",
            "placeholder": "​",
            "style": "IPY_MODEL_af3312213550418e8afec745569a0dad",
            "value": "Downloading (…)lve/main/config.json: 100%"
          }
        },
        "32abf08b9de14910b73220e47bd6cf27": {
          "model_module": "@jupyter-widgets/controls",
          "model_name": "FloatProgressModel",
          "model_module_version": "1.5.0",
          "state": {
            "_dom_classes": [],
            "_model_module": "@jupyter-widgets/controls",
            "_model_module_version": "1.5.0",
            "_model_name": "FloatProgressModel",
            "_view_count": null,
            "_view_module": "@jupyter-widgets/controls",
            "_view_module_version": "1.5.0",
            "_view_name": "ProgressView",
            "bar_style": "success",
            "description": "",
            "description_tooltip": null,
            "layout": "IPY_MODEL_e6fb625bef714ee79923201314189ec7",
            "max": 570,
            "min": 0,
            "orientation": "horizontal",
            "style": "IPY_MODEL_f08700add1f34b609b75d1713c22a8aa",
            "value": 570
          }
        },
        "942a09d73c3149a8a476f23f219b7d23": {
          "model_module": "@jupyter-widgets/controls",
          "model_name": "HTMLModel",
          "model_module_version": "1.5.0",
          "state": {
            "_dom_classes": [],
            "_model_module": "@jupyter-widgets/controls",
            "_model_module_version": "1.5.0",
            "_model_name": "HTMLModel",
            "_view_count": null,
            "_view_module": "@jupyter-widgets/controls",
            "_view_module_version": "1.5.0",
            "_view_name": "HTMLView",
            "description": "",
            "description_tooltip": null,
            "layout": "IPY_MODEL_9355f0795ad74892825925f426335db5",
            "placeholder": "​",
            "style": "IPY_MODEL_a21923a27cea4ae1aca72fa5d28c98eb",
            "value": " 570/570 [00:00&lt;00:00, 12.0kB/s]"
          }
        },
        "35c7244e72144ac6a838b999508fbd56": {
          "model_module": "@jupyter-widgets/base",
          "model_name": "LayoutModel",
          "model_module_version": "1.2.0",
          "state": {
            "_model_module": "@jupyter-widgets/base",
            "_model_module_version": "1.2.0",
            "_model_name": "LayoutModel",
            "_view_count": null,
            "_view_module": "@jupyter-widgets/base",
            "_view_module_version": "1.2.0",
            "_view_name": "LayoutView",
            "align_content": null,
            "align_items": null,
            "align_self": null,
            "border": null,
            "bottom": null,
            "display": null,
            "flex": null,
            "flex_flow": null,
            "grid_area": null,
            "grid_auto_columns": null,
            "grid_auto_flow": null,
            "grid_auto_rows": null,
            "grid_column": null,
            "grid_gap": null,
            "grid_row": null,
            "grid_template_areas": null,
            "grid_template_columns": null,
            "grid_template_rows": null,
            "height": null,
            "justify_content": null,
            "justify_items": null,
            "left": null,
            "margin": null,
            "max_height": null,
            "max_width": null,
            "min_height": null,
            "min_width": null,
            "object_fit": null,
            "object_position": null,
            "order": null,
            "overflow": null,
            "overflow_x": null,
            "overflow_y": null,
            "padding": null,
            "right": null,
            "top": null,
            "visibility": null,
            "width": null
          }
        },
        "eb06021c09fc4b1bb28202f599e83a31": {
          "model_module": "@jupyter-widgets/base",
          "model_name": "LayoutModel",
          "model_module_version": "1.2.0",
          "state": {
            "_model_module": "@jupyter-widgets/base",
            "_model_module_version": "1.2.0",
            "_model_name": "LayoutModel",
            "_view_count": null,
            "_view_module": "@jupyter-widgets/base",
            "_view_module_version": "1.2.0",
            "_view_name": "LayoutView",
            "align_content": null,
            "align_items": null,
            "align_self": null,
            "border": null,
            "bottom": null,
            "display": null,
            "flex": null,
            "flex_flow": null,
            "grid_area": null,
            "grid_auto_columns": null,
            "grid_auto_flow": null,
            "grid_auto_rows": null,
            "grid_column": null,
            "grid_gap": null,
            "grid_row": null,
            "grid_template_areas": null,
            "grid_template_columns": null,
            "grid_template_rows": null,
            "height": null,
            "justify_content": null,
            "justify_items": null,
            "left": null,
            "margin": null,
            "max_height": null,
            "max_width": null,
            "min_height": null,
            "min_width": null,
            "object_fit": null,
            "object_position": null,
            "order": null,
            "overflow": null,
            "overflow_x": null,
            "overflow_y": null,
            "padding": null,
            "right": null,
            "top": null,
            "visibility": null,
            "width": null
          }
        },
        "af3312213550418e8afec745569a0dad": {
          "model_module": "@jupyter-widgets/controls",
          "model_name": "DescriptionStyleModel",
          "model_module_version": "1.5.0",
          "state": {
            "_model_module": "@jupyter-widgets/controls",
            "_model_module_version": "1.5.0",
            "_model_name": "DescriptionStyleModel",
            "_view_count": null,
            "_view_module": "@jupyter-widgets/base",
            "_view_module_version": "1.2.0",
            "_view_name": "StyleView",
            "description_width": ""
          }
        },
        "e6fb625bef714ee79923201314189ec7": {
          "model_module": "@jupyter-widgets/base",
          "model_name": "LayoutModel",
          "model_module_version": "1.2.0",
          "state": {
            "_model_module": "@jupyter-widgets/base",
            "_model_module_version": "1.2.0",
            "_model_name": "LayoutModel",
            "_view_count": null,
            "_view_module": "@jupyter-widgets/base",
            "_view_module_version": "1.2.0",
            "_view_name": "LayoutView",
            "align_content": null,
            "align_items": null,
            "align_self": null,
            "border": null,
            "bottom": null,
            "display": null,
            "flex": null,
            "flex_flow": null,
            "grid_area": null,
            "grid_auto_columns": null,
            "grid_auto_flow": null,
            "grid_auto_rows": null,
            "grid_column": null,
            "grid_gap": null,
            "grid_row": null,
            "grid_template_areas": null,
            "grid_template_columns": null,
            "grid_template_rows": null,
            "height": null,
            "justify_content": null,
            "justify_items": null,
            "left": null,
            "margin": null,
            "max_height": null,
            "max_width": null,
            "min_height": null,
            "min_width": null,
            "object_fit": null,
            "object_position": null,
            "order": null,
            "overflow": null,
            "overflow_x": null,
            "overflow_y": null,
            "padding": null,
            "right": null,
            "top": null,
            "visibility": null,
            "width": null
          }
        },
        "f08700add1f34b609b75d1713c22a8aa": {
          "model_module": "@jupyter-widgets/controls",
          "model_name": "ProgressStyleModel",
          "model_module_version": "1.5.0",
          "state": {
            "_model_module": "@jupyter-widgets/controls",
            "_model_module_version": "1.5.0",
            "_model_name": "ProgressStyleModel",
            "_view_count": null,
            "_view_module": "@jupyter-widgets/base",
            "_view_module_version": "1.2.0",
            "_view_name": "StyleView",
            "bar_color": null,
            "description_width": ""
          }
        },
        "9355f0795ad74892825925f426335db5": {
          "model_module": "@jupyter-widgets/base",
          "model_name": "LayoutModel",
          "model_module_version": "1.2.0",
          "state": {
            "_model_module": "@jupyter-widgets/base",
            "_model_module_version": "1.2.0",
            "_model_name": "LayoutModel",
            "_view_count": null,
            "_view_module": "@jupyter-widgets/base",
            "_view_module_version": "1.2.0",
            "_view_name": "LayoutView",
            "align_content": null,
            "align_items": null,
            "align_self": null,
            "border": null,
            "bottom": null,
            "display": null,
            "flex": null,
            "flex_flow": null,
            "grid_area": null,
            "grid_auto_columns": null,
            "grid_auto_flow": null,
            "grid_auto_rows": null,
            "grid_column": null,
            "grid_gap": null,
            "grid_row": null,
            "grid_template_areas": null,
            "grid_template_columns": null,
            "grid_template_rows": null,
            "height": null,
            "justify_content": null,
            "justify_items": null,
            "left": null,
            "margin": null,
            "max_height": null,
            "max_width": null,
            "min_height": null,
            "min_width": null,
            "object_fit": null,
            "object_position": null,
            "order": null,
            "overflow": null,
            "overflow_x": null,
            "overflow_y": null,
            "padding": null,
            "right": null,
            "top": null,
            "visibility": null,
            "width": null
          }
        },
        "a21923a27cea4ae1aca72fa5d28c98eb": {
          "model_module": "@jupyter-widgets/controls",
          "model_name": "DescriptionStyleModel",
          "model_module_version": "1.5.0",
          "state": {
            "_model_module": "@jupyter-widgets/controls",
            "_model_module_version": "1.5.0",
            "_model_name": "DescriptionStyleModel",
            "_view_count": null,
            "_view_module": "@jupyter-widgets/base",
            "_view_module_version": "1.2.0",
            "_view_name": "StyleView",
            "description_width": ""
          }
        },
        "401a457f6d334fd8a2ff1cc87a9d0d21": {
          "model_module": "@jupyter-widgets/controls",
          "model_name": "HBoxModel",
          "model_module_version": "1.5.0",
          "state": {
            "_dom_classes": [],
            "_model_module": "@jupyter-widgets/controls",
            "_model_module_version": "1.5.0",
            "_model_name": "HBoxModel",
            "_view_count": null,
            "_view_module": "@jupyter-widgets/controls",
            "_view_module_version": "1.5.0",
            "_view_name": "HBoxView",
            "box_style": "",
            "children": [
              "IPY_MODEL_70b4605b0cf94c56b336dbe6bb5a6d18",
              "IPY_MODEL_a41b151657034a0693e099c1a5b2f124",
              "IPY_MODEL_0bb5398761234edc88919ba6e7727f3d"
            ],
            "layout": "IPY_MODEL_bc3c340f1fcf4fe789814dcf0418b4fc"
          }
        },
        "70b4605b0cf94c56b336dbe6bb5a6d18": {
          "model_module": "@jupyter-widgets/controls",
          "model_name": "HTMLModel",
          "model_module_version": "1.5.0",
          "state": {
            "_dom_classes": [],
            "_model_module": "@jupyter-widgets/controls",
            "_model_module_version": "1.5.0",
            "_model_name": "HTMLModel",
            "_view_count": null,
            "_view_module": "@jupyter-widgets/controls",
            "_view_module_version": "1.5.0",
            "_view_name": "HTMLView",
            "description": "",
            "description_tooltip": null,
            "layout": "IPY_MODEL_7751afb557554ce28ca974d67a1d4350",
            "placeholder": "​",
            "style": "IPY_MODEL_4324655eb0c74a65b74563c131b0a623",
            "value": "Downloading model.safetensors: 100%"
          }
        },
        "a41b151657034a0693e099c1a5b2f124": {
          "model_module": "@jupyter-widgets/controls",
          "model_name": "FloatProgressModel",
          "model_module_version": "1.5.0",
          "state": {
            "_dom_classes": [],
            "_model_module": "@jupyter-widgets/controls",
            "_model_module_version": "1.5.0",
            "_model_name": "FloatProgressModel",
            "_view_count": null,
            "_view_module": "@jupyter-widgets/controls",
            "_view_module_version": "1.5.0",
            "_view_name": "ProgressView",
            "bar_style": "success",
            "description": "",
            "description_tooltip": null,
            "layout": "IPY_MODEL_494ff1cdbade457d8a67a3925d1247a7",
            "max": 435755784,
            "min": 0,
            "orientation": "horizontal",
            "style": "IPY_MODEL_df9f3ba8dc8940d68f6919e0b1e33b84",
            "value": 435755784
          }
        },
        "0bb5398761234edc88919ba6e7727f3d": {
          "model_module": "@jupyter-widgets/controls",
          "model_name": "HTMLModel",
          "model_module_version": "1.5.0",
          "state": {
            "_dom_classes": [],
            "_model_module": "@jupyter-widgets/controls",
            "_model_module_version": "1.5.0",
            "_model_name": "HTMLModel",
            "_view_count": null,
            "_view_module": "@jupyter-widgets/controls",
            "_view_module_version": "1.5.0",
            "_view_name": "HTMLView",
            "description": "",
            "description_tooltip": null,
            "layout": "IPY_MODEL_59d8e72b64684c328437727ba8219dee",
            "placeholder": "​",
            "style": "IPY_MODEL_43f3fe4929a641878269511b576b6521",
            "value": " 436M/436M [00:04&lt;00:00, 187MB/s]"
          }
        },
        "bc3c340f1fcf4fe789814dcf0418b4fc": {
          "model_module": "@jupyter-widgets/base",
          "model_name": "LayoutModel",
          "model_module_version": "1.2.0",
          "state": {
            "_model_module": "@jupyter-widgets/base",
            "_model_module_version": "1.2.0",
            "_model_name": "LayoutModel",
            "_view_count": null,
            "_view_module": "@jupyter-widgets/base",
            "_view_module_version": "1.2.0",
            "_view_name": "LayoutView",
            "align_content": null,
            "align_items": null,
            "align_self": null,
            "border": null,
            "bottom": null,
            "display": null,
            "flex": null,
            "flex_flow": null,
            "grid_area": null,
            "grid_auto_columns": null,
            "grid_auto_flow": null,
            "grid_auto_rows": null,
            "grid_column": null,
            "grid_gap": null,
            "grid_row": null,
            "grid_template_areas": null,
            "grid_template_columns": null,
            "grid_template_rows": null,
            "height": null,
            "justify_content": null,
            "justify_items": null,
            "left": null,
            "margin": null,
            "max_height": null,
            "max_width": null,
            "min_height": null,
            "min_width": null,
            "object_fit": null,
            "object_position": null,
            "order": null,
            "overflow": null,
            "overflow_x": null,
            "overflow_y": null,
            "padding": null,
            "right": null,
            "top": null,
            "visibility": null,
            "width": null
          }
        },
        "7751afb557554ce28ca974d67a1d4350": {
          "model_module": "@jupyter-widgets/base",
          "model_name": "LayoutModel",
          "model_module_version": "1.2.0",
          "state": {
            "_model_module": "@jupyter-widgets/base",
            "_model_module_version": "1.2.0",
            "_model_name": "LayoutModel",
            "_view_count": null,
            "_view_module": "@jupyter-widgets/base",
            "_view_module_version": "1.2.0",
            "_view_name": "LayoutView",
            "align_content": null,
            "align_items": null,
            "align_self": null,
            "border": null,
            "bottom": null,
            "display": null,
            "flex": null,
            "flex_flow": null,
            "grid_area": null,
            "grid_auto_columns": null,
            "grid_auto_flow": null,
            "grid_auto_rows": null,
            "grid_column": null,
            "grid_gap": null,
            "grid_row": null,
            "grid_template_areas": null,
            "grid_template_columns": null,
            "grid_template_rows": null,
            "height": null,
            "justify_content": null,
            "justify_items": null,
            "left": null,
            "margin": null,
            "max_height": null,
            "max_width": null,
            "min_height": null,
            "min_width": null,
            "object_fit": null,
            "object_position": null,
            "order": null,
            "overflow": null,
            "overflow_x": null,
            "overflow_y": null,
            "padding": null,
            "right": null,
            "top": null,
            "visibility": null,
            "width": null
          }
        },
        "4324655eb0c74a65b74563c131b0a623": {
          "model_module": "@jupyter-widgets/controls",
          "model_name": "DescriptionStyleModel",
          "model_module_version": "1.5.0",
          "state": {
            "_model_module": "@jupyter-widgets/controls",
            "_model_module_version": "1.5.0",
            "_model_name": "DescriptionStyleModel",
            "_view_count": null,
            "_view_module": "@jupyter-widgets/base",
            "_view_module_version": "1.2.0",
            "_view_name": "StyleView",
            "description_width": ""
          }
        },
        "494ff1cdbade457d8a67a3925d1247a7": {
          "model_module": "@jupyter-widgets/base",
          "model_name": "LayoutModel",
          "model_module_version": "1.2.0",
          "state": {
            "_model_module": "@jupyter-widgets/base",
            "_model_module_version": "1.2.0",
            "_model_name": "LayoutModel",
            "_view_count": null,
            "_view_module": "@jupyter-widgets/base",
            "_view_module_version": "1.2.0",
            "_view_name": "LayoutView",
            "align_content": null,
            "align_items": null,
            "align_self": null,
            "border": null,
            "bottom": null,
            "display": null,
            "flex": null,
            "flex_flow": null,
            "grid_area": null,
            "grid_auto_columns": null,
            "grid_auto_flow": null,
            "grid_auto_rows": null,
            "grid_column": null,
            "grid_gap": null,
            "grid_row": null,
            "grid_template_areas": null,
            "grid_template_columns": null,
            "grid_template_rows": null,
            "height": null,
            "justify_content": null,
            "justify_items": null,
            "left": null,
            "margin": null,
            "max_height": null,
            "max_width": null,
            "min_height": null,
            "min_width": null,
            "object_fit": null,
            "object_position": null,
            "order": null,
            "overflow": null,
            "overflow_x": null,
            "overflow_y": null,
            "padding": null,
            "right": null,
            "top": null,
            "visibility": null,
            "width": null
          }
        },
        "df9f3ba8dc8940d68f6919e0b1e33b84": {
          "model_module": "@jupyter-widgets/controls",
          "model_name": "ProgressStyleModel",
          "model_module_version": "1.5.0",
          "state": {
            "_model_module": "@jupyter-widgets/controls",
            "_model_module_version": "1.5.0",
            "_model_name": "ProgressStyleModel",
            "_view_count": null,
            "_view_module": "@jupyter-widgets/base",
            "_view_module_version": "1.2.0",
            "_view_name": "StyleView",
            "bar_color": null,
            "description_width": ""
          }
        },
        "59d8e72b64684c328437727ba8219dee": {
          "model_module": "@jupyter-widgets/base",
          "model_name": "LayoutModel",
          "model_module_version": "1.2.0",
          "state": {
            "_model_module": "@jupyter-widgets/base",
            "_model_module_version": "1.2.0",
            "_model_name": "LayoutModel",
            "_view_count": null,
            "_view_module": "@jupyter-widgets/base",
            "_view_module_version": "1.2.0",
            "_view_name": "LayoutView",
            "align_content": null,
            "align_items": null,
            "align_self": null,
            "border": null,
            "bottom": null,
            "display": null,
            "flex": null,
            "flex_flow": null,
            "grid_area": null,
            "grid_auto_columns": null,
            "grid_auto_flow": null,
            "grid_auto_rows": null,
            "grid_column": null,
            "grid_gap": null,
            "grid_row": null,
            "grid_template_areas": null,
            "grid_template_columns": null,
            "grid_template_rows": null,
            "height": null,
            "justify_content": null,
            "justify_items": null,
            "left": null,
            "margin": null,
            "max_height": null,
            "max_width": null,
            "min_height": null,
            "min_width": null,
            "object_fit": null,
            "object_position": null,
            "order": null,
            "overflow": null,
            "overflow_x": null,
            "overflow_y": null,
            "padding": null,
            "right": null,
            "top": null,
            "visibility": null,
            "width": null
          }
        },
        "43f3fe4929a641878269511b576b6521": {
          "model_module": "@jupyter-widgets/controls",
          "model_name": "DescriptionStyleModel",
          "model_module_version": "1.5.0",
          "state": {
            "_model_module": "@jupyter-widgets/controls",
            "_model_module_version": "1.5.0",
            "_model_name": "DescriptionStyleModel",
            "_view_count": null,
            "_view_module": "@jupyter-widgets/base",
            "_view_module_version": "1.2.0",
            "_view_name": "StyleView",
            "description_width": ""
          }
        }
      }
    }
  },
  "cells": [
    {
      "cell_type": "markdown",
      "source": [
        "# Text Mining Modelling"
      ],
      "metadata": {
        "id": "bQ7eyyezrxta"
      }
    },
    {
      "cell_type": "markdown",
      "source": [
        "### Import Library"
      ],
      "metadata": {
        "id": "7g3AxeXFtBCc"
      }
    },
    {
      "cell_type": "markdown",
      "source": [
        "Disini saya akan melakukan import terhadap beberapa library yang akan dipakai untuk memanggil function yang ada di dalam library tersebut.\n",
        "\n",
        "Disini saya juga melakukan download 'stopwords', 'punkt', dan 'wordnet' yang memang dibutuhkan untuk proses analisis data lebih lanjut."
      ],
      "metadata": {
        "id": "TZgwIeG1pjX5"
      }
    },
    {
      "cell_type": "code",
      "source": [
        "import numpy as np\n",
        "import pandas as pd\n",
        "import re\n",
        "import nltk\n",
        "\n",
        "from nltk.corpus import stopwords\n",
        "from nltk.tokenize import word_tokenize\n",
        "from nltk.stem import WordNetLemmatizer\n",
        "from sklearn.feature_extraction.text import TfidfVectorizer\n",
        "from sklearn.feature_extraction.text import CountVectorizer\n",
        "from sklearn.model_selection import train_test_split\n",
        "\n",
        "from sklearn.metrics import accuracy_score\n",
        "from sklearn.metrics import confusion_matrix, classification_report, roc_auc_score\n",
        "from sklearn.linear_model import LogisticRegression\n",
        "from sklearn.naive_bayes import MultinomialNB\n",
        "from sklearn.pipeline import Pipeline\n",
        "\n",
        "nltk.download('stopwords')\n",
        "nltk.download('punkt')\n",
        "nltk.download('wordnet')"
      ],
      "metadata": {
        "colab": {
          "base_uri": "https://localhost:8080/"
        },
        "id": "d7oaBq0EtD2S",
        "outputId": "5c18a5af-c255-451e-deac-2381f05f933d"
      },
      "execution_count": null,
      "outputs": [
        {
          "output_type": "stream",
          "name": "stderr",
          "text": [
            "[nltk_data] Downloading package stopwords to /root/nltk_data...\n",
            "[nltk_data]   Unzipping corpora/stopwords.zip.\n",
            "[nltk_data] Downloading package punkt to /root/nltk_data...\n",
            "[nltk_data]   Unzipping tokenizers/punkt.zip.\n",
            "[nltk_data] Downloading package wordnet to /root/nltk_data...\n"
          ]
        },
        {
          "output_type": "execute_result",
          "data": {
            "text/plain": [
              "True"
            ]
          },
          "metadata": {},
          "execution_count": 1
        }
      ]
    },
    {
      "cell_type": "markdown",
      "source": [
        "### Data Exploration"
      ],
      "metadata": {
        "id": "IRLRvFo49hb2"
      }
    },
    {
      "cell_type": "markdown",
      "source": [
        "Sebelum melakukan analisa lebih jauh, alangkah baiknya langkah pertama yang harus dilakukan yaitu membaca dataset yang bernama data_1A.csv"
      ],
      "metadata": {
        "id": "TLlhwRkdreo_"
      }
    },
    {
      "cell_type": "code",
      "source": [
        "df1 = pd.read_csv('/content/data_1A.csv')"
      ],
      "metadata": {
        "id": "qxJvRgbXtDz4"
      },
      "execution_count": null,
      "outputs": []
    },
    {
      "cell_type": "markdown",
      "source": [
        "Dapat dilihat 5 data teratas dari dataset yang dimiliki"
      ],
      "metadata": {
        "id": "3N3hI7m-rrog"
      }
    },
    {
      "cell_type": "code",
      "source": [
        "df1.head(5)"
      ],
      "metadata": {
        "colab": {
          "base_uri": "https://localhost:8080/",
          "height": 206
        },
        "id": "mTVQ5r4atDxQ",
        "outputId": "cb6d8a5a-7a3b-4009-d940-b1c9aa7ae7de"
      },
      "execution_count": null,
      "outputs": [
        {
          "output_type": "execute_result",
          "data": {
            "text/plain": [
              "   Unnamed: 0                                               text      label\n",
              "0           0  The Theory of Everything Review Stephen Hawkin...      Books\n",
              "1           1  Computer Networks: A Top - Down Approach About...      Books\n",
              "2           2  Sajani Premium Quality Brown Wooden Coat Hange...  Household\n",
              "3           3  Bosch Lifestyle MCM3501M 800-Watt Food Process...  Household\n",
              "4           4  Secret Wish Women's Navy-Blue Towel Bathrobe (...  Household"
            ],
            "text/html": [
              "\n",
              "  <div id=\"df-55ecb3ed-09b2-4947-afd2-519fcdcbd122\">\n",
              "    <div class=\"colab-df-container\">\n",
              "      <div>\n",
              "<style scoped>\n",
              "    .dataframe tbody tr th:only-of-type {\n",
              "        vertical-align: middle;\n",
              "    }\n",
              "\n",
              "    .dataframe tbody tr th {\n",
              "        vertical-align: top;\n",
              "    }\n",
              "\n",
              "    .dataframe thead th {\n",
              "        text-align: right;\n",
              "    }\n",
              "</style>\n",
              "<table border=\"1\" class=\"dataframe\">\n",
              "  <thead>\n",
              "    <tr style=\"text-align: right;\">\n",
              "      <th></th>\n",
              "      <th>Unnamed: 0</th>\n",
              "      <th>text</th>\n",
              "      <th>label</th>\n",
              "    </tr>\n",
              "  </thead>\n",
              "  <tbody>\n",
              "    <tr>\n",
              "      <th>0</th>\n",
              "      <td>0</td>\n",
              "      <td>The Theory of Everything Review Stephen Hawkin...</td>\n",
              "      <td>Books</td>\n",
              "    </tr>\n",
              "    <tr>\n",
              "      <th>1</th>\n",
              "      <td>1</td>\n",
              "      <td>Computer Networks: A Top - Down Approach About...</td>\n",
              "      <td>Books</td>\n",
              "    </tr>\n",
              "    <tr>\n",
              "      <th>2</th>\n",
              "      <td>2</td>\n",
              "      <td>Sajani Premium Quality Brown Wooden Coat Hange...</td>\n",
              "      <td>Household</td>\n",
              "    </tr>\n",
              "    <tr>\n",
              "      <th>3</th>\n",
              "      <td>3</td>\n",
              "      <td>Bosch Lifestyle MCM3501M 800-Watt Food Process...</td>\n",
              "      <td>Household</td>\n",
              "    </tr>\n",
              "    <tr>\n",
              "      <th>4</th>\n",
              "      <td>4</td>\n",
              "      <td>Secret Wish Women's Navy-Blue Towel Bathrobe (...</td>\n",
              "      <td>Household</td>\n",
              "    </tr>\n",
              "  </tbody>\n",
              "</table>\n",
              "</div>\n",
              "      <button class=\"colab-df-convert\" onclick=\"convertToInteractive('df-55ecb3ed-09b2-4947-afd2-519fcdcbd122')\"\n",
              "              title=\"Convert this dataframe to an interactive table.\"\n",
              "              style=\"display:none;\">\n",
              "        \n",
              "  <svg xmlns=\"http://www.w3.org/2000/svg\" height=\"24px\"viewBox=\"0 0 24 24\"\n",
              "       width=\"24px\">\n",
              "    <path d=\"M0 0h24v24H0V0z\" fill=\"none\"/>\n",
              "    <path d=\"M18.56 5.44l.94 2.06.94-2.06 2.06-.94-2.06-.94-.94-2.06-.94 2.06-2.06.94zm-11 1L8.5 8.5l.94-2.06 2.06-.94-2.06-.94L8.5 2.5l-.94 2.06-2.06.94zm10 10l.94 2.06.94-2.06 2.06-.94-2.06-.94-.94-2.06-.94 2.06-2.06.94z\"/><path d=\"M17.41 7.96l-1.37-1.37c-.4-.4-.92-.59-1.43-.59-.52 0-1.04.2-1.43.59L10.3 9.45l-7.72 7.72c-.78.78-.78 2.05 0 2.83L4 21.41c.39.39.9.59 1.41.59.51 0 1.02-.2 1.41-.59l7.78-7.78 2.81-2.81c.8-.78.8-2.07 0-2.86zM5.41 20L4 18.59l7.72-7.72 1.47 1.35L5.41 20z\"/>\n",
              "  </svg>\n",
              "      </button>\n",
              "      \n",
              "  <style>\n",
              "    .colab-df-container {\n",
              "      display:flex;\n",
              "      flex-wrap:wrap;\n",
              "      gap: 12px;\n",
              "    }\n",
              "\n",
              "    .colab-df-convert {\n",
              "      background-color: #E8F0FE;\n",
              "      border: none;\n",
              "      border-radius: 50%;\n",
              "      cursor: pointer;\n",
              "      display: none;\n",
              "      fill: #1967D2;\n",
              "      height: 32px;\n",
              "      padding: 0 0 0 0;\n",
              "      width: 32px;\n",
              "    }\n",
              "\n",
              "    .colab-df-convert:hover {\n",
              "      background-color: #E2EBFA;\n",
              "      box-shadow: 0px 1px 2px rgba(60, 64, 67, 0.3), 0px 1px 3px 1px rgba(60, 64, 67, 0.15);\n",
              "      fill: #174EA6;\n",
              "    }\n",
              "\n",
              "    [theme=dark] .colab-df-convert {\n",
              "      background-color: #3B4455;\n",
              "      fill: #D2E3FC;\n",
              "    }\n",
              "\n",
              "    [theme=dark] .colab-df-convert:hover {\n",
              "      background-color: #434B5C;\n",
              "      box-shadow: 0px 1px 3px 1px rgba(0, 0, 0, 0.15);\n",
              "      filter: drop-shadow(0px 1px 2px rgba(0, 0, 0, 0.3));\n",
              "      fill: #FFFFFF;\n",
              "    }\n",
              "  </style>\n",
              "\n",
              "      <script>\n",
              "        const buttonEl =\n",
              "          document.querySelector('#df-55ecb3ed-09b2-4947-afd2-519fcdcbd122 button.colab-df-convert');\n",
              "        buttonEl.style.display =\n",
              "          google.colab.kernel.accessAllowed ? 'block' : 'none';\n",
              "\n",
              "        async function convertToInteractive(key) {\n",
              "          const element = document.querySelector('#df-55ecb3ed-09b2-4947-afd2-519fcdcbd122');\n",
              "          const dataTable =\n",
              "            await google.colab.kernel.invokeFunction('convertToInteractive',\n",
              "                                                     [key], {});\n",
              "          if (!dataTable) return;\n",
              "\n",
              "          const docLinkHtml = 'Like what you see? Visit the ' +\n",
              "            '<a target=\"_blank\" href=https://colab.research.google.com/notebooks/data_table.ipynb>data table notebook</a>'\n",
              "            + ' to learn more about interactive tables.';\n",
              "          element.innerHTML = '';\n",
              "          dataTable['output_type'] = 'display_data';\n",
              "          await google.colab.output.renderOutput(dataTable, element);\n",
              "          const docLink = document.createElement('div');\n",
              "          docLink.innerHTML = docLinkHtml;\n",
              "          element.appendChild(docLink);\n",
              "        }\n",
              "      </script>\n",
              "    </div>\n",
              "  </div>\n",
              "  "
            ]
          },
          "metadata": {},
          "execution_count": 3
        }
      ]
    },
    {
      "cell_type": "markdown",
      "source": [
        "Dapat dilihat 5 data terakhir dari dataset yang dimiliki"
      ],
      "metadata": {
        "id": "jPjkKLwIrx5y"
      }
    },
    {
      "cell_type": "code",
      "execution_count": null,
      "metadata": {
        "colab": {
          "base_uri": "https://localhost:8080/",
          "height": 206
        },
        "id": "635LHWX_rjvQ",
        "outputId": "71161e68-b0b7-4311-b9b0-9a7d590116b9"
      },
      "outputs": [
        {
          "output_type": "execute_result",
          "data": {
            "text/plain": [
              "       Unnamed: 0                                               text  \\\n",
              "12601       12601  Lotus Makeup Ecostay Insta Smooth Perfecting P...   \n",
              "12602       12602  The Subtle Art of Not Giving a F*ck Review “Re...   \n",
              "12603       12603  Elevanto Premium Collection 3/4Th Sleeve Terry...   \n",
              "12604       12604  WD My Passport 4TB Portable External Hard Driv...   \n",
              "12605       12605  Storite 16 Foot 3.5 mm Male To 3.5 mm Female J...   \n",
              "\n",
              "             label  \n",
              "12601    Household  \n",
              "12602        Books  \n",
              "12603    Household  \n",
              "12604  Electronics  \n",
              "12605  Electronics  "
            ],
            "text/html": [
              "\n",
              "  <div id=\"df-63541ab0-bfa8-4caa-a831-dab5cf5e66d0\">\n",
              "    <div class=\"colab-df-container\">\n",
              "      <div>\n",
              "<style scoped>\n",
              "    .dataframe tbody tr th:only-of-type {\n",
              "        vertical-align: middle;\n",
              "    }\n",
              "\n",
              "    .dataframe tbody tr th {\n",
              "        vertical-align: top;\n",
              "    }\n",
              "\n",
              "    .dataframe thead th {\n",
              "        text-align: right;\n",
              "    }\n",
              "</style>\n",
              "<table border=\"1\" class=\"dataframe\">\n",
              "  <thead>\n",
              "    <tr style=\"text-align: right;\">\n",
              "      <th></th>\n",
              "      <th>Unnamed: 0</th>\n",
              "      <th>text</th>\n",
              "      <th>label</th>\n",
              "    </tr>\n",
              "  </thead>\n",
              "  <tbody>\n",
              "    <tr>\n",
              "      <th>12601</th>\n",
              "      <td>12601</td>\n",
              "      <td>Lotus Makeup Ecostay Insta Smooth Perfecting P...</td>\n",
              "      <td>Household</td>\n",
              "    </tr>\n",
              "    <tr>\n",
              "      <th>12602</th>\n",
              "      <td>12602</td>\n",
              "      <td>The Subtle Art of Not Giving a F*ck Review “Re...</td>\n",
              "      <td>Books</td>\n",
              "    </tr>\n",
              "    <tr>\n",
              "      <th>12603</th>\n",
              "      <td>12603</td>\n",
              "      <td>Elevanto Premium Collection 3/4Th Sleeve Terry...</td>\n",
              "      <td>Household</td>\n",
              "    </tr>\n",
              "    <tr>\n",
              "      <th>12604</th>\n",
              "      <td>12604</td>\n",
              "      <td>WD My Passport 4TB Portable External Hard Driv...</td>\n",
              "      <td>Electronics</td>\n",
              "    </tr>\n",
              "    <tr>\n",
              "      <th>12605</th>\n",
              "      <td>12605</td>\n",
              "      <td>Storite 16 Foot 3.5 mm Male To 3.5 mm Female J...</td>\n",
              "      <td>Electronics</td>\n",
              "    </tr>\n",
              "  </tbody>\n",
              "</table>\n",
              "</div>\n",
              "      <button class=\"colab-df-convert\" onclick=\"convertToInteractive('df-63541ab0-bfa8-4caa-a831-dab5cf5e66d0')\"\n",
              "              title=\"Convert this dataframe to an interactive table.\"\n",
              "              style=\"display:none;\">\n",
              "        \n",
              "  <svg xmlns=\"http://www.w3.org/2000/svg\" height=\"24px\"viewBox=\"0 0 24 24\"\n",
              "       width=\"24px\">\n",
              "    <path d=\"M0 0h24v24H0V0z\" fill=\"none\"/>\n",
              "    <path d=\"M18.56 5.44l.94 2.06.94-2.06 2.06-.94-2.06-.94-.94-2.06-.94 2.06-2.06.94zm-11 1L8.5 8.5l.94-2.06 2.06-.94-2.06-.94L8.5 2.5l-.94 2.06-2.06.94zm10 10l.94 2.06.94-2.06 2.06-.94-2.06-.94-.94-2.06-.94 2.06-2.06.94z\"/><path d=\"M17.41 7.96l-1.37-1.37c-.4-.4-.92-.59-1.43-.59-.52 0-1.04.2-1.43.59L10.3 9.45l-7.72 7.72c-.78.78-.78 2.05 0 2.83L4 21.41c.39.39.9.59 1.41.59.51 0 1.02-.2 1.41-.59l7.78-7.78 2.81-2.81c.8-.78.8-2.07 0-2.86zM5.41 20L4 18.59l7.72-7.72 1.47 1.35L5.41 20z\"/>\n",
              "  </svg>\n",
              "      </button>\n",
              "      \n",
              "  <style>\n",
              "    .colab-df-container {\n",
              "      display:flex;\n",
              "      flex-wrap:wrap;\n",
              "      gap: 12px;\n",
              "    }\n",
              "\n",
              "    .colab-df-convert {\n",
              "      background-color: #E8F0FE;\n",
              "      border: none;\n",
              "      border-radius: 50%;\n",
              "      cursor: pointer;\n",
              "      display: none;\n",
              "      fill: #1967D2;\n",
              "      height: 32px;\n",
              "      padding: 0 0 0 0;\n",
              "      width: 32px;\n",
              "    }\n",
              "\n",
              "    .colab-df-convert:hover {\n",
              "      background-color: #E2EBFA;\n",
              "      box-shadow: 0px 1px 2px rgba(60, 64, 67, 0.3), 0px 1px 3px 1px rgba(60, 64, 67, 0.15);\n",
              "      fill: #174EA6;\n",
              "    }\n",
              "\n",
              "    [theme=dark] .colab-df-convert {\n",
              "      background-color: #3B4455;\n",
              "      fill: #D2E3FC;\n",
              "    }\n",
              "\n",
              "    [theme=dark] .colab-df-convert:hover {\n",
              "      background-color: #434B5C;\n",
              "      box-shadow: 0px 1px 3px 1px rgba(0, 0, 0, 0.15);\n",
              "      filter: drop-shadow(0px 1px 2px rgba(0, 0, 0, 0.3));\n",
              "      fill: #FFFFFF;\n",
              "    }\n",
              "  </style>\n",
              "\n",
              "      <script>\n",
              "        const buttonEl =\n",
              "          document.querySelector('#df-63541ab0-bfa8-4caa-a831-dab5cf5e66d0 button.colab-df-convert');\n",
              "        buttonEl.style.display =\n",
              "          google.colab.kernel.accessAllowed ? 'block' : 'none';\n",
              "\n",
              "        async function convertToInteractive(key) {\n",
              "          const element = document.querySelector('#df-63541ab0-bfa8-4caa-a831-dab5cf5e66d0');\n",
              "          const dataTable =\n",
              "            await google.colab.kernel.invokeFunction('convertToInteractive',\n",
              "                                                     [key], {});\n",
              "          if (!dataTable) return;\n",
              "\n",
              "          const docLinkHtml = 'Like what you see? Visit the ' +\n",
              "            '<a target=\"_blank\" href=https://colab.research.google.com/notebooks/data_table.ipynb>data table notebook</a>'\n",
              "            + ' to learn more about interactive tables.';\n",
              "          element.innerHTML = '';\n",
              "          dataTable['output_type'] = 'display_data';\n",
              "          await google.colab.output.renderOutput(dataTable, element);\n",
              "          const docLink = document.createElement('div');\n",
              "          docLink.innerHTML = docLinkHtml;\n",
              "          element.appendChild(docLink);\n",
              "        }\n",
              "      </script>\n",
              "    </div>\n",
              "  </div>\n",
              "  "
            ]
          },
          "metadata": {},
          "execution_count": 4
        }
      ],
      "source": [
        "df1.tail(5)"
      ]
    },
    {
      "cell_type": "markdown",
      "source": [
        "Dengan menjalankan kode di bawah, anda dapat melihat berbagai informasi seputar dataset, mulai dari jumlah kolom beserta dengan namanya, jumlah data serta tipe data dari setiap variabel.\n",
        "\n",
        "Kalau dilihat secara teliti di variable 'text' jumlah data yang ada itu hanya 12605 sementara jumlah data itu sebesar 12606, hal ini berarti terdapat 1 missing value di variabel 'text'.\n",
        "\n",
        "Biasanya jika missing value hanya ada sedikit ini tidak akan terlalu mempengaruhi data, namun disini saya akan memperbaiki agar tidak ada missing value sama sekali."
      ],
      "metadata": {
        "id": "TU-rnpR5r1SC"
      }
    },
    {
      "cell_type": "code",
      "source": [
        "df1.info()"
      ],
      "metadata": {
        "colab": {
          "base_uri": "https://localhost:8080/"
        },
        "id": "onFQwygnwhxi",
        "outputId": "7e231cc1-abf9-42c9-a036-b4c4168decf1"
      },
      "execution_count": null,
      "outputs": [
        {
          "output_type": "stream",
          "name": "stdout",
          "text": [
            "<class 'pandas.core.frame.DataFrame'>\n",
            "RangeIndex: 12606 entries, 0 to 12605\n",
            "Data columns (total 3 columns):\n",
            " #   Column      Non-Null Count  Dtype \n",
            "---  ------      --------------  ----- \n",
            " 0   Unnamed: 0  12606 non-null  int64 \n",
            " 1   text        12605 non-null  object\n",
            " 2   label       12606 non-null  object\n",
            "dtypes: int64(1), object(2)\n",
            "memory usage: 295.6+ KB\n"
          ]
        }
      ]
    },
    {
      "cell_type": "markdown",
      "source": [
        "Setelah saya melihat ketiga variabel yang ada di dataset, Saya beranggapan bahwa variabel bernama 'Unnamed: 0' ini keberadaannya di dataset ada atau tidak itu gk terlalu mempengaruhi dataset.\n",
        "\n",
        "Hal ini dikarenakan variabel 'Unnamed: 0' hanya berisi angka yang menunjukkan banyaknya data."
      ],
      "metadata": {
        "id": "5QX8DI_rsgFv"
      }
    },
    {
      "cell_type": "code",
      "source": [
        "df1.drop(columns=['Unnamed: 0'], inplace=True)\n",
        "df1.head(5)"
      ],
      "metadata": {
        "colab": {
          "base_uri": "https://localhost:8080/",
          "height": 206
        },
        "id": "iDhUSDlCwhtF",
        "outputId": "a6d00c0f-ea7a-48cf-d404-72616d5d4728"
      },
      "execution_count": null,
      "outputs": [
        {
          "output_type": "execute_result",
          "data": {
            "text/plain": [
              "                                                text      label\n",
              "0  The Theory of Everything Review Stephen Hawkin...      Books\n",
              "1  Computer Networks: A Top - Down Approach About...      Books\n",
              "2  Sajani Premium Quality Brown Wooden Coat Hange...  Household\n",
              "3  Bosch Lifestyle MCM3501M 800-Watt Food Process...  Household\n",
              "4  Secret Wish Women's Navy-Blue Towel Bathrobe (...  Household"
            ],
            "text/html": [
              "\n",
              "  <div id=\"df-2727d904-b8a2-4721-bdbf-bd0aa4ba3a23\">\n",
              "    <div class=\"colab-df-container\">\n",
              "      <div>\n",
              "<style scoped>\n",
              "    .dataframe tbody tr th:only-of-type {\n",
              "        vertical-align: middle;\n",
              "    }\n",
              "\n",
              "    .dataframe tbody tr th {\n",
              "        vertical-align: top;\n",
              "    }\n",
              "\n",
              "    .dataframe thead th {\n",
              "        text-align: right;\n",
              "    }\n",
              "</style>\n",
              "<table border=\"1\" class=\"dataframe\">\n",
              "  <thead>\n",
              "    <tr style=\"text-align: right;\">\n",
              "      <th></th>\n",
              "      <th>text</th>\n",
              "      <th>label</th>\n",
              "    </tr>\n",
              "  </thead>\n",
              "  <tbody>\n",
              "    <tr>\n",
              "      <th>0</th>\n",
              "      <td>The Theory of Everything Review Stephen Hawkin...</td>\n",
              "      <td>Books</td>\n",
              "    </tr>\n",
              "    <tr>\n",
              "      <th>1</th>\n",
              "      <td>Computer Networks: A Top - Down Approach About...</td>\n",
              "      <td>Books</td>\n",
              "    </tr>\n",
              "    <tr>\n",
              "      <th>2</th>\n",
              "      <td>Sajani Premium Quality Brown Wooden Coat Hange...</td>\n",
              "      <td>Household</td>\n",
              "    </tr>\n",
              "    <tr>\n",
              "      <th>3</th>\n",
              "      <td>Bosch Lifestyle MCM3501M 800-Watt Food Process...</td>\n",
              "      <td>Household</td>\n",
              "    </tr>\n",
              "    <tr>\n",
              "      <th>4</th>\n",
              "      <td>Secret Wish Women's Navy-Blue Towel Bathrobe (...</td>\n",
              "      <td>Household</td>\n",
              "    </tr>\n",
              "  </tbody>\n",
              "</table>\n",
              "</div>\n",
              "      <button class=\"colab-df-convert\" onclick=\"convertToInteractive('df-2727d904-b8a2-4721-bdbf-bd0aa4ba3a23')\"\n",
              "              title=\"Convert this dataframe to an interactive table.\"\n",
              "              style=\"display:none;\">\n",
              "        \n",
              "  <svg xmlns=\"http://www.w3.org/2000/svg\" height=\"24px\"viewBox=\"0 0 24 24\"\n",
              "       width=\"24px\">\n",
              "    <path d=\"M0 0h24v24H0V0z\" fill=\"none\"/>\n",
              "    <path d=\"M18.56 5.44l.94 2.06.94-2.06 2.06-.94-2.06-.94-.94-2.06-.94 2.06-2.06.94zm-11 1L8.5 8.5l.94-2.06 2.06-.94-2.06-.94L8.5 2.5l-.94 2.06-2.06.94zm10 10l.94 2.06.94-2.06 2.06-.94-2.06-.94-.94-2.06-.94 2.06-2.06.94z\"/><path d=\"M17.41 7.96l-1.37-1.37c-.4-.4-.92-.59-1.43-.59-.52 0-1.04.2-1.43.59L10.3 9.45l-7.72 7.72c-.78.78-.78 2.05 0 2.83L4 21.41c.39.39.9.59 1.41.59.51 0 1.02-.2 1.41-.59l7.78-7.78 2.81-2.81c.8-.78.8-2.07 0-2.86zM5.41 20L4 18.59l7.72-7.72 1.47 1.35L5.41 20z\"/>\n",
              "  </svg>\n",
              "      </button>\n",
              "      \n",
              "  <style>\n",
              "    .colab-df-container {\n",
              "      display:flex;\n",
              "      flex-wrap:wrap;\n",
              "      gap: 12px;\n",
              "    }\n",
              "\n",
              "    .colab-df-convert {\n",
              "      background-color: #E8F0FE;\n",
              "      border: none;\n",
              "      border-radius: 50%;\n",
              "      cursor: pointer;\n",
              "      display: none;\n",
              "      fill: #1967D2;\n",
              "      height: 32px;\n",
              "      padding: 0 0 0 0;\n",
              "      width: 32px;\n",
              "    }\n",
              "\n",
              "    .colab-df-convert:hover {\n",
              "      background-color: #E2EBFA;\n",
              "      box-shadow: 0px 1px 2px rgba(60, 64, 67, 0.3), 0px 1px 3px 1px rgba(60, 64, 67, 0.15);\n",
              "      fill: #174EA6;\n",
              "    }\n",
              "\n",
              "    [theme=dark] .colab-df-convert {\n",
              "      background-color: #3B4455;\n",
              "      fill: #D2E3FC;\n",
              "    }\n",
              "\n",
              "    [theme=dark] .colab-df-convert:hover {\n",
              "      background-color: #434B5C;\n",
              "      box-shadow: 0px 1px 3px 1px rgba(0, 0, 0, 0.15);\n",
              "      filter: drop-shadow(0px 1px 2px rgba(0, 0, 0, 0.3));\n",
              "      fill: #FFFFFF;\n",
              "    }\n",
              "  </style>\n",
              "\n",
              "      <script>\n",
              "        const buttonEl =\n",
              "          document.querySelector('#df-2727d904-b8a2-4721-bdbf-bd0aa4ba3a23 button.colab-df-convert');\n",
              "        buttonEl.style.display =\n",
              "          google.colab.kernel.accessAllowed ? 'block' : 'none';\n",
              "\n",
              "        async function convertToInteractive(key) {\n",
              "          const element = document.querySelector('#df-2727d904-b8a2-4721-bdbf-bd0aa4ba3a23');\n",
              "          const dataTable =\n",
              "            await google.colab.kernel.invokeFunction('convertToInteractive',\n",
              "                                                     [key], {});\n",
              "          if (!dataTable) return;\n",
              "\n",
              "          const docLinkHtml = 'Like what you see? Visit the ' +\n",
              "            '<a target=\"_blank\" href=https://colab.research.google.com/notebooks/data_table.ipynb>data table notebook</a>'\n",
              "            + ' to learn more about interactive tables.';\n",
              "          element.innerHTML = '';\n",
              "          dataTable['output_type'] = 'display_data';\n",
              "          await google.colab.output.renderOutput(dataTable, element);\n",
              "          const docLink = document.createElement('div');\n",
              "          docLink.innerHTML = docLinkHtml;\n",
              "          element.appendChild(docLink);\n",
              "        }\n",
              "      </script>\n",
              "    </div>\n",
              "  </div>\n",
              "  "
            ]
          },
          "metadata": {},
          "execution_count": 6
        }
      ]
    },
    {
      "cell_type": "markdown",
      "source": [
        "### Data Preparation / Data Cleaning"
      ],
      "metadata": {
        "id": "VvZMHi9S9lBP"
      }
    },
    {
      "cell_type": "markdown",
      "source": [
        "Setelah Data Exploration selesai, maka tahapan selanjutnya itu masuk ke Data Preparation dan Data Cleaning.\n",
        "\n",
        "Proses ini dilakukan agar data yang dimiliki itu menjadi bersih dan lebih siap untuk digunakan pada proses analisis data atau membuat model Machine Learning.\n",
        "\n",
        "Karena sebelumnya saya menemukan bahwa terdapat 1 missing value di variabel 'text' oleh karena itu saya memperbaikinya disini. Dapat dilihat output yang dihasilkan bahwa sudah sama sekali tidak terdapat missing value di kedua variabel."
      ],
      "metadata": {
        "id": "aI1QxVnVs08I"
      }
    },
    {
      "cell_type": "code",
      "source": [
        "df1 = df1.fillna('')\n",
        "df1.isnull().sum()"
      ],
      "metadata": {
        "colab": {
          "base_uri": "https://localhost:8080/"
        },
        "id": "Cis7_LvK3Kvx",
        "outputId": "d1b97f90-dd5a-40d5-a2a2-bb68097b9414"
      },
      "execution_count": null,
      "outputs": [
        {
          "output_type": "execute_result",
          "data": {
            "text/plain": [
              "text     0\n",
              "label    0\n",
              "dtype: int64"
            ]
          },
          "metadata": {},
          "execution_count": 7
        }
      ]
    },
    {
      "cell_type": "markdown",
      "source": [
        "Di bawah ini merupakan function Cleaning data yang saya buat sendiri, di dalamnya terdapat berbagai macam proses data cleaning. Seperti yang dapat dilihat pada code di bawah ini"
      ],
      "metadata": {
        "id": "c5drqZGetniD"
      }
    },
    {
      "cell_type": "code",
      "source": [
        "def cleaning(df):\n",
        "    # Ubah ke Lowercase\n",
        "    clean_text = df.str.casefold()\n",
        "    # Menghapus Angka\n",
        "    clean_text = [re.sub(r'\\d+', '', i ) for i in clean_text]\n",
        "    # Menghapus tanda baca\n",
        "    clean_text = [re.sub(r'[^\\w]', ' ', i) for i in clean_text]\n",
        "    # Menghapus Spasi Double\n",
        "    clean_text = [re.sub(r'\\s+', ' ', i) for i in clean_text]\n",
        "    # Menghapus stopwords\n",
        "    stop_words = set(stopwords.words('english'))\n",
        "    clean_text = [' '.join([word for word in word_tokenize(text) if word.lower() not in stop_words]) for text in clean_text]\n",
        "    # Tokenisasi\n",
        "    clean_text = [word_tokenize(text) for text in clean_text]\n",
        "    # Lemmatisasi\n",
        "    lemmatizer = WordNetLemmatizer()\n",
        "    clean_text = [[lemmatizer.lemmatize(word) for word in text] for text in clean_text]\n",
        "    # Menggabungkan kata per kata menjadi satu kalimat\n",
        "    clean_text = [' '.join(text) for text in clean_text]\n",
        "\n",
        "    return clean_text"
      ],
      "metadata": {
        "id": "756UHAZUwhoQ"
      },
      "execution_count": null,
      "outputs": []
    },
    {
      "cell_type": "markdown",
      "source": [
        "Setelah function cleaning selesai dibuat, maka tahapan selanjutnya itu mendefinisikan varabel di dataset mana yang ingin dibersihkan.\n",
        "\n",
        "Dalam kasus saya yang ingin dibersihkan itu variabel bernama 'text', nah hasil data cleansing dari 'text' ini akan saya masukkan ke sebuah variabel baru bernama 'clean_text'"
      ],
      "metadata": {
        "id": "0Unl2gvGt5IQ"
      }
    },
    {
      "cell_type": "code",
      "source": [
        "df1['clean_text'] = cleaning(df1['text'].apply(str))\n",
        "df1.head()"
      ],
      "metadata": {
        "colab": {
          "base_uri": "https://localhost:8080/",
          "height": 206
        },
        "id": "MMpom87L2d88",
        "outputId": "911387ad-1152-4a7c-ed01-33aeebbb19de"
      },
      "execution_count": null,
      "outputs": [
        {
          "output_type": "execute_result",
          "data": {
            "text/plain": [
              "                                                text      label  \\\n",
              "0  The Theory of Everything Review Stephen Hawkin...      Books   \n",
              "1  Computer Networks: A Top - Down Approach About...      Books   \n",
              "2  Sajani Premium Quality Brown Wooden Coat Hange...  Household   \n",
              "3  Bosch Lifestyle MCM3501M 800-Watt Food Process...  Household   \n",
              "4  Secret Wish Women's Navy-Blue Towel Bathrobe (...  Household   \n",
              "\n",
              "                                          clean_text  \n",
              "0  theory everything review stephen hawking theor...  \n",
              "1  computer network top approach author behrouz f...  \n",
              "2  sajani premium quality brown wooden coat hange...  \n",
              "3  bosch lifestyle mcmm watt food processor black...  \n",
              "4  secret wish woman navy blue towel bathrobe fre...  "
            ],
            "text/html": [
              "\n",
              "  <div id=\"df-7286bb75-35ae-47ab-a944-4e38e7251dc8\">\n",
              "    <div class=\"colab-df-container\">\n",
              "      <div>\n",
              "<style scoped>\n",
              "    .dataframe tbody tr th:only-of-type {\n",
              "        vertical-align: middle;\n",
              "    }\n",
              "\n",
              "    .dataframe tbody tr th {\n",
              "        vertical-align: top;\n",
              "    }\n",
              "\n",
              "    .dataframe thead th {\n",
              "        text-align: right;\n",
              "    }\n",
              "</style>\n",
              "<table border=\"1\" class=\"dataframe\">\n",
              "  <thead>\n",
              "    <tr style=\"text-align: right;\">\n",
              "      <th></th>\n",
              "      <th>text</th>\n",
              "      <th>label</th>\n",
              "      <th>clean_text</th>\n",
              "    </tr>\n",
              "  </thead>\n",
              "  <tbody>\n",
              "    <tr>\n",
              "      <th>0</th>\n",
              "      <td>The Theory of Everything Review Stephen Hawkin...</td>\n",
              "      <td>Books</td>\n",
              "      <td>theory everything review stephen hawking theor...</td>\n",
              "    </tr>\n",
              "    <tr>\n",
              "      <th>1</th>\n",
              "      <td>Computer Networks: A Top - Down Approach About...</td>\n",
              "      <td>Books</td>\n",
              "      <td>computer network top approach author behrouz f...</td>\n",
              "    </tr>\n",
              "    <tr>\n",
              "      <th>2</th>\n",
              "      <td>Sajani Premium Quality Brown Wooden Coat Hange...</td>\n",
              "      <td>Household</td>\n",
              "      <td>sajani premium quality brown wooden coat hange...</td>\n",
              "    </tr>\n",
              "    <tr>\n",
              "      <th>3</th>\n",
              "      <td>Bosch Lifestyle MCM3501M 800-Watt Food Process...</td>\n",
              "      <td>Household</td>\n",
              "      <td>bosch lifestyle mcmm watt food processor black...</td>\n",
              "    </tr>\n",
              "    <tr>\n",
              "      <th>4</th>\n",
              "      <td>Secret Wish Women's Navy-Blue Towel Bathrobe (...</td>\n",
              "      <td>Household</td>\n",
              "      <td>secret wish woman navy blue towel bathrobe fre...</td>\n",
              "    </tr>\n",
              "  </tbody>\n",
              "</table>\n",
              "</div>\n",
              "      <button class=\"colab-df-convert\" onclick=\"convertToInteractive('df-7286bb75-35ae-47ab-a944-4e38e7251dc8')\"\n",
              "              title=\"Convert this dataframe to an interactive table.\"\n",
              "              style=\"display:none;\">\n",
              "        \n",
              "  <svg xmlns=\"http://www.w3.org/2000/svg\" height=\"24px\"viewBox=\"0 0 24 24\"\n",
              "       width=\"24px\">\n",
              "    <path d=\"M0 0h24v24H0V0z\" fill=\"none\"/>\n",
              "    <path d=\"M18.56 5.44l.94 2.06.94-2.06 2.06-.94-2.06-.94-.94-2.06-.94 2.06-2.06.94zm-11 1L8.5 8.5l.94-2.06 2.06-.94-2.06-.94L8.5 2.5l-.94 2.06-2.06.94zm10 10l.94 2.06.94-2.06 2.06-.94-2.06-.94-.94-2.06-.94 2.06-2.06.94z\"/><path d=\"M17.41 7.96l-1.37-1.37c-.4-.4-.92-.59-1.43-.59-.52 0-1.04.2-1.43.59L10.3 9.45l-7.72 7.72c-.78.78-.78 2.05 0 2.83L4 21.41c.39.39.9.59 1.41.59.51 0 1.02-.2 1.41-.59l7.78-7.78 2.81-2.81c.8-.78.8-2.07 0-2.86zM5.41 20L4 18.59l7.72-7.72 1.47 1.35L5.41 20z\"/>\n",
              "  </svg>\n",
              "      </button>\n",
              "      \n",
              "  <style>\n",
              "    .colab-df-container {\n",
              "      display:flex;\n",
              "      flex-wrap:wrap;\n",
              "      gap: 12px;\n",
              "    }\n",
              "\n",
              "    .colab-df-convert {\n",
              "      background-color: #E8F0FE;\n",
              "      border: none;\n",
              "      border-radius: 50%;\n",
              "      cursor: pointer;\n",
              "      display: none;\n",
              "      fill: #1967D2;\n",
              "      height: 32px;\n",
              "      padding: 0 0 0 0;\n",
              "      width: 32px;\n",
              "    }\n",
              "\n",
              "    .colab-df-convert:hover {\n",
              "      background-color: #E2EBFA;\n",
              "      box-shadow: 0px 1px 2px rgba(60, 64, 67, 0.3), 0px 1px 3px 1px rgba(60, 64, 67, 0.15);\n",
              "      fill: #174EA6;\n",
              "    }\n",
              "\n",
              "    [theme=dark] .colab-df-convert {\n",
              "      background-color: #3B4455;\n",
              "      fill: #D2E3FC;\n",
              "    }\n",
              "\n",
              "    [theme=dark] .colab-df-convert:hover {\n",
              "      background-color: #434B5C;\n",
              "      box-shadow: 0px 1px 3px 1px rgba(0, 0, 0, 0.15);\n",
              "      filter: drop-shadow(0px 1px 2px rgba(0, 0, 0, 0.3));\n",
              "      fill: #FFFFFF;\n",
              "    }\n",
              "  </style>\n",
              "\n",
              "      <script>\n",
              "        const buttonEl =\n",
              "          document.querySelector('#df-7286bb75-35ae-47ab-a944-4e38e7251dc8 button.colab-df-convert');\n",
              "        buttonEl.style.display =\n",
              "          google.colab.kernel.accessAllowed ? 'block' : 'none';\n",
              "\n",
              "        async function convertToInteractive(key) {\n",
              "          const element = document.querySelector('#df-7286bb75-35ae-47ab-a944-4e38e7251dc8');\n",
              "          const dataTable =\n",
              "            await google.colab.kernel.invokeFunction('convertToInteractive',\n",
              "                                                     [key], {});\n",
              "          if (!dataTable) return;\n",
              "\n",
              "          const docLinkHtml = 'Like what you see? Visit the ' +\n",
              "            '<a target=\"_blank\" href=https://colab.research.google.com/notebooks/data_table.ipynb>data table notebook</a>'\n",
              "            + ' to learn more about interactive tables.';\n",
              "          element.innerHTML = '';\n",
              "          dataTable['output_type'] = 'display_data';\n",
              "          await google.colab.output.renderOutput(dataTable, element);\n",
              "          const docLink = document.createElement('div');\n",
              "          docLink.innerHTML = docLinkHtml;\n",
              "          element.appendChild(docLink);\n",
              "        }\n",
              "      </script>\n",
              "    </div>\n",
              "  </div>\n",
              "  "
            ]
          },
          "metadata": {},
          "execution_count": 9
        }
      ]
    },
    {
      "cell_type": "markdown",
      "source": [
        "Dikarenakan proses selanjutnya itu merupakan proses Vectorization dan membuat model Machine Learning sederhana oleh karena itu Saya memisahkan mana yang menjadi variabel X dan mana yang menjadi variabel Y, setelah ditentukan maka proses selanjutnya dilakukan train_test_split terhadap data dengan test data sebesar 20% sedangkan training data sebesar 80%."
      ],
      "metadata": {
        "id": "wEIxHMrLuNDG"
      }
    },
    {
      "cell_type": "code",
      "source": [
        "X = df1['clean_text']\n",
        "y = df1['label']\n",
        "\n",
        "X_train, X_test, y_train, y_test = train_test_split(X, y, test_size=0.2, random_state=42)"
      ],
      "metadata": {
        "id": "tJ36lAQu2d16"
      },
      "execution_count": null,
      "outputs": []
    },
    {
      "cell_type": "markdown",
      "source": [
        "### Count Vectorizer"
      ],
      "metadata": {
        "id": "2rwHklZ99tHH"
      }
    },
    {
      "cell_type": "markdown",
      "source": [
        "CountVectorizer adalah salah satu metode vectorization yang digunakan dalam pemrosesan teks untuk mengubah teks menjadi representasi numerik. Metode ini menghitung frekuensi kemunculan kata-kata dalam teks dan mengonversinya menjadi vektor numerik.\n",
        "\n",
        "Jadi, CountVectorizer mengambil kumpulan dokumen teks dan menghasilkan matriks di mana setiap barisnya mewakili satu dokumen dan setiap kolom mewakili kata yang ada dalam seluruh dokumen. Nilai di setiap sel matriks menunjukkan berapa kali kata tertentu muncul dalam dokumen yang sesuai."
      ],
      "metadata": {
        "id": "anpO7Py2wLrk"
      }
    },
    {
      "cell_type": "markdown",
      "source": [
        "Di bawah ini dilakukan proses Vectorization dengan menggunakan metode Count Vectorizer dimana:\n",
        "\n",
        "X_train_count_vector.shape akan memberikan informasi tentang jumlah baris dan kolom dalam matriks X_train_count_vector, yaitu jumlah dokumen training dan jumlah kata dalam vocabulary, sedangkan\n",
        "\n",
        "X_test_count_vector.shape akan memberikan informasi serupa untuk matriks X_test_count_vector, yaitu jumlah dokumen testing dan jumlah kata dalam vocabulary yang sama dengan yang ada dalam matriks X_train_count_vector."
      ],
      "metadata": {
        "id": "WEdIMSYG9V0A"
      }
    },
    {
      "cell_type": "code",
      "source": [
        "count_vector = CountVectorizer(ngram_range=(1,2), max_df=0.9, min_df=5)\n",
        "# default lowercase = True, analyser = True, ngram_range=(1,1)\n",
        "\n",
        "count_vector.fit(X_train)\n",
        "X_train_count_vector = count_vector.transform(X_train)\n",
        "X_test_count_vector = count_vector.transform(X_test)\n",
        "\n",
        "X_train_count_vector.shape, X_test_count_vector.shape"
      ],
      "metadata": {
        "colab": {
          "base_uri": "https://localhost:8080/"
        },
        "id": "IJMKMuBr9Bv6",
        "outputId": "e65cb331-4b73-4328-e784-db83eb824033"
      },
      "execution_count": null,
      "outputs": [
        {
          "output_type": "execute_result",
          "data": {
            "text/plain": [
              "((10084, 28146), (2522, 28146))"
            ]
          },
          "metadata": {},
          "execution_count": 11
        }
      ]
    },
    {
      "cell_type": "markdown",
      "source": [
        "Setelah Count Vectorizer sudah didapatkan, maka tahapan selanjutnya yaitu menggunakan Count Vector tersebut ke dalam 2 model Machine Learning disini Saya menggunakan model Logistic Regression dan Multinomial Naive Bayes."
      ],
      "metadata": {
        "id": "LDMhyNr6-G9I"
      }
    },
    {
      "cell_type": "markdown",
      "source": [
        "### Logictic Regression With Count Vector"
      ],
      "metadata": {
        "id": "UMqLph-N9xhQ"
      }
    },
    {
      "cell_type": "markdown",
      "source": [
        "Berikut ini dapat dilihat akurasi dari model Logistic Regression beserta dengan classification report untuk setiap multiclass yang ada di dalam dataset."
      ],
      "metadata": {
        "id": "1Ac1q0ja-gBk"
      }
    },
    {
      "cell_type": "code",
      "source": [
        "lr_cv = LogisticRegression(max_iter=5000)\n",
        "lr_cv.fit(X_train_count_vector, y_train)\n",
        "pred_lr_cv = lr_cv.predict(X_test_count_vector)\n",
        "\n",
        "print(accuracy_score(y_test, pred_lr_cv))\n",
        "print(classification_report(y_test, pred_lr_cv))"
      ],
      "metadata": {
        "colab": {
          "base_uri": "https://localhost:8080/"
        },
        "id": "8xcu1lu17MQM",
        "outputId": "0843f7d8-f391-40f0-9e54-4368d0f30d11"
      },
      "execution_count": null,
      "outputs": [
        {
          "output_type": "stream",
          "name": "stdout",
          "text": [
            "0.9504361617763679\n",
            "                        precision    recall  f1-score   support\n",
            "\n",
            "                 Books       0.93      0.96      0.94       586\n",
            "Clothing & Accessories       0.96      0.95      0.96       466\n",
            "           Electronics       0.94      0.92      0.93       506\n",
            "             Household       0.96      0.96      0.96       964\n",
            "\n",
            "              accuracy                           0.95      2522\n",
            "             macro avg       0.95      0.95      0.95      2522\n",
            "          weighted avg       0.95      0.95      0.95      2522\n",
            "\n"
          ]
        }
      ]
    },
    {
      "cell_type": "markdown",
      "source": [
        "### Multinomial Naive Bayes With Count Vector"
      ],
      "metadata": {
        "id": "VRsTMAe4-Vaz"
      }
    },
    {
      "cell_type": "markdown",
      "source": [
        "Berikut ini dapat dilihat akurasi dari model Multinomial Naive Bayes beserta dengan classification report untuk setiap multiclass yang ada di dalam dataset."
      ],
      "metadata": {
        "id": "t8K42z-G-zZ2"
      }
    },
    {
      "cell_type": "code",
      "source": [
        "mnb = MultinomialNB()\n",
        "\n",
        "pipeline = Pipeline([('count_vector', CountVectorizer(max_df=100)),\n",
        "                     ('mnb', MultinomialNB())])\n",
        "\n",
        "pipeline.fit(X_train, y_train)\n",
        "pred_NB_cv = pipeline.predict(X_test)\n",
        "\n",
        "print(accuracy_score(y_test, pred_NB_cv))\n",
        "print(classification_report(y_test, pred_NB_cv))"
      ],
      "metadata": {
        "colab": {
          "base_uri": "https://localhost:8080/"
        },
        "id": "0nlblBMe-Oa_",
        "outputId": "4713231b-89c5-46e6-dbf7-08f90479986d"
      },
      "execution_count": null,
      "outputs": [
        {
          "output_type": "stream",
          "name": "stdout",
          "text": [
            "0.9246629659000793\n",
            "                        precision    recall  f1-score   support\n",
            "\n",
            "                 Books       0.96      0.88      0.92       586\n",
            "Clothing & Accessories       0.94      0.94      0.94       466\n",
            "           Electronics       0.91      0.91      0.91       506\n",
            "             Household       0.91      0.95      0.93       964\n",
            "\n",
            "              accuracy                           0.92      2522\n",
            "             macro avg       0.93      0.92      0.92      2522\n",
            "          weighted avg       0.93      0.92      0.92      2522\n",
            "\n"
          ]
        }
      ]
    },
    {
      "cell_type": "markdown",
      "source": [
        "Berdasarkan nilai akurasi dari kedua model Machine Learning di atas dengan menggunakan Count Vectorizer, dapat dikatakan bahwa model Logictic Regression menghasilkan tingkat akurasi yang sedikit lebih tinggi daripada model Multinomial Naive Bayes."
      ],
      "metadata": {
        "id": "TtnwfFTx-4Le"
      }
    },
    {
      "cell_type": "markdown",
      "source": [
        "### TF - IDF Vectorizer"
      ],
      "metadata": {
        "id": "3x4Raci--_wW"
      }
    },
    {
      "cell_type": "markdown",
      "source": [
        "TF-IDF (Term Frequency-Inverse Document Frequency) adalah metode vectorization yang digunakan dalam pemrosesan teks untuk mengukur pentingnya sebuah kata dalam sebuah dokumen dalam konteks koleksi dokumen yang lebih besar. Metode ini memberikan bobot yang lebih tinggi pada kata-kata yang muncul lebih sering dalam dokumen tertentu, tetapi jarang muncul di dokumen lain.\n",
        "\n",
        "Dengan menggunakan TF-IDF, kita dapat mengonversi teks menjadi representasi numerik yang memperhitungkan pentingnya kata dalam dokumen-dokumen yang berbeda. Representasi ini dapat digunakan sebagai input untuk algoritma Machine Learning untuk memahami dan memprediksi pola dalam teks."
      ],
      "metadata": {
        "id": "JXtvi4jq_kNO"
      }
    },
    {
      "cell_type": "markdown",
      "source": [
        "Kemudian Saya melakukan hal yang sama yaitu mencari TF - IDF setelah itu memakai hasil dari TF - IDF tersebut ke dalam 2 model Machine Learning yaitu Logistic Regression dengan Multinomial Naive Bayes"
      ],
      "metadata": {
        "id": "JGi61HFw_2VR"
      }
    },
    {
      "cell_type": "code",
      "source": [
        "tfidf_vector = TfidfVectorizer(ngram_range=(1,2), max_df=0.9, min_df=5)\n",
        "\n",
        "tfidf_vector.fit(X_train)\n",
        "\n",
        "X_train_tfidf_vector = tfidf_vector.transform(X_train)\n",
        "X_test_tfidf_vector = tfidf_vector.transform(X_test)\n",
        "\n",
        "X_train_tfidf_vector.shape, X_test_tfidf_vector.shape"
      ],
      "metadata": {
        "colab": {
          "base_uri": "https://localhost:8080/"
        },
        "id": "oIxkiHHL-OV-",
        "outputId": "7be6f72d-a79b-4369-f2fc-948ac1b58801"
      },
      "execution_count": null,
      "outputs": [
        {
          "output_type": "execute_result",
          "data": {
            "text/plain": [
              "((10084, 28146), (2522, 28146))"
            ]
          },
          "metadata": {},
          "execution_count": 14
        }
      ]
    },
    {
      "cell_type": "markdown",
      "source": [
        "### Logistic Regression With TF - IDF Vector"
      ],
      "metadata": {
        "id": "ijHInoeq_SUx"
      }
    },
    {
      "cell_type": "code",
      "source": [
        "lr_tf = LogisticRegression(max_iter=5000)\n",
        "lr_tf.fit(X_train_tfidf_vector, y_train)\n",
        "pred_tf = lr_tf.predict(X_test_tfidf_vector)\n",
        "\n",
        "print(accuracy_score(y_test, pred_tf))\n",
        "print(classification_report(y_test, pred_tf))"
      ],
      "metadata": {
        "colab": {
          "base_uri": "https://localhost:8080/"
        },
        "id": "HMS7_XtF-OTa",
        "outputId": "fc8cea28-fc72-4f0c-e8c7-e8cf0d55ea32"
      },
      "execution_count": null,
      "outputs": [
        {
          "output_type": "stream",
          "name": "stdout",
          "text": [
            "0.9544012688342586\n",
            "                        precision    recall  f1-score   support\n",
            "\n",
            "                 Books       0.97      0.93      0.95       586\n",
            "Clothing & Accessories       0.97      0.95      0.96       466\n",
            "           Electronics       0.95      0.93      0.94       506\n",
            "             Household       0.94      0.98      0.96       964\n",
            "\n",
            "              accuracy                           0.95      2522\n",
            "             macro avg       0.96      0.95      0.95      2522\n",
            "          weighted avg       0.95      0.95      0.95      2522\n",
            "\n"
          ]
        }
      ]
    },
    {
      "cell_type": "markdown",
      "source": [
        "### Multinomial Naive Bayes With TF - IDF Vector"
      ],
      "metadata": {
        "id": "bR7x2fwQ_woE"
      }
    },
    {
      "cell_type": "code",
      "source": [
        "pipeline = Pipeline([('tfidf_vector', TfidfVectorizer(max_df=100)),\n",
        "                    ('mnb', MultinomialNB())])\n",
        "\n",
        "pipeline.fit(X_train, y_train)\n",
        "pred_NB_tf = pipeline.predict(X_test)\n",
        "\n",
        "print(accuracy_score(y_test, pred_NB_tf))\n",
        "print(classification_report(y_test, pred_NB_tf))"
      ],
      "metadata": {
        "colab": {
          "base_uri": "https://localhost:8080/"
        },
        "id": "S2vSbbHd-OOm",
        "outputId": "e3dfccb4-41ab-40a0-e2cd-57f53adfa143"
      },
      "execution_count": null,
      "outputs": [
        {
          "output_type": "stream",
          "name": "stdout",
          "text": [
            "0.9008723235527359\n",
            "                        precision    recall  f1-score   support\n",
            "\n",
            "                 Books       0.96      0.88      0.92       586\n",
            "Clothing & Accessories       0.97      0.85      0.90       466\n",
            "           Electronics       0.95      0.83      0.89       506\n",
            "             Household       0.83      0.98      0.90       964\n",
            "\n",
            "              accuracy                           0.90      2522\n",
            "             macro avg       0.93      0.88      0.90      2522\n",
            "          weighted avg       0.91      0.90      0.90      2522\n",
            "\n"
          ]
        }
      ]
    },
    {
      "cell_type": "markdown",
      "source": [
        "Dapat dilihat bahwa nilai akurasi model Logistic Regression dengan menggunakan TF - IDF Vector menghasilkan tingkat akurasi yang lebih tinggi daripada Multinomial Naive Bayes."
      ],
      "metadata": {
        "id": "lf984I1LAH47"
      }
    },
    {
      "cell_type": "markdown",
      "source": [
        "### Conclusion\n",
        "Mari bandingkan antara Logistic Regression menggunakan Count Vectorizer dengan Logistic Regression menggunakan TF - IDF\n",
        "\n",
        "Accuracy LR dengan Count Vectorizer sebesar: 0.9504361617763679\n",
        "\n",
        "Accuracy LR dengan TF - IDF Vectorizer sebesar: 0.9544012688342586\n",
        "\n",
        "Akurasi LR dengan TF - IDF lebih tinggi daripada dengan Count Vectorizer, namun perbedaan akurasi yang dihasilkan dari kedua model ini bisa dikatakan tidak terlalu signifikan."
      ],
      "metadata": {
        "id": "5R2aDZVwAZpx"
      }
    },
    {
      "cell_type": "markdown",
      "source": [
        "# BERT MODELLING"
      ],
      "metadata": {
        "id": "R5jCzXMLwaTb"
      }
    },
    {
      "cell_type": "markdown",
      "source": [
        "### Import Library"
      ],
      "metadata": {
        "id": "Ayl4UqX-Bbac"
      }
    },
    {
      "cell_type": "markdown",
      "source": [
        "Disini Saya melakukan download package yang bernama 'transformers' serta melakukan import beberapa library lagi"
      ],
      "metadata": {
        "id": "jhGbfRt5Bjrj"
      }
    },
    {
      "cell_type": "code",
      "source": [
        "!pip install transformers\n",
        "\n",
        "import torch\n",
        "from torch import nn\n",
        "from torch.optim import Adam\n",
        "\n",
        "from transformers import BertTokenizer\n",
        "from transformers import BertModel\n",
        "from tqdm import tqdm"
      ],
      "metadata": {
        "id": "BFUOo0Tu6Ap3",
        "colab": {
          "base_uri": "https://localhost:8080/"
        },
        "outputId": "93699966-919d-45e2-ce12-bf612671ace9"
      },
      "execution_count": null,
      "outputs": [
        {
          "output_type": "stream",
          "name": "stdout",
          "text": [
            "Collecting transformers\n",
            "  Downloading transformers-4.30.2-py3-none-any.whl (7.2 MB)\n",
            "\u001b[2K     \u001b[90m━━━━━━━━━━━━━━━━━━━━━━━━━━━━━━━━━━━━━━━━\u001b[0m \u001b[32m7.2/7.2 MB\u001b[0m \u001b[31m61.2 MB/s\u001b[0m eta \u001b[36m0:00:00\u001b[0m\n",
            "\u001b[?25hRequirement already satisfied: filelock in /usr/local/lib/python3.10/dist-packages (from transformers) (3.12.2)\n",
            "Collecting huggingface-hub<1.0,>=0.14.1 (from transformers)\n",
            "  Downloading huggingface_hub-0.15.1-py3-none-any.whl (236 kB)\n",
            "\u001b[2K     \u001b[90m━━━━━━━━━━━━━━━━━━━━━━━━━━━━━━━━━━━━━━\u001b[0m \u001b[32m236.8/236.8 kB\u001b[0m \u001b[31m28.2 MB/s\u001b[0m eta \u001b[36m0:00:00\u001b[0m\n",
            "\u001b[?25hRequirement already satisfied: numpy>=1.17 in /usr/local/lib/python3.10/dist-packages (from transformers) (1.22.4)\n",
            "Requirement already satisfied: packaging>=20.0 in /usr/local/lib/python3.10/dist-packages (from transformers) (23.1)\n",
            "Requirement already satisfied: pyyaml>=5.1 in /usr/local/lib/python3.10/dist-packages (from transformers) (6.0)\n",
            "Requirement already satisfied: regex!=2019.12.17 in /usr/local/lib/python3.10/dist-packages (from transformers) (2022.10.31)\n",
            "Requirement already satisfied: requests in /usr/local/lib/python3.10/dist-packages (from transformers) (2.27.1)\n",
            "Collecting tokenizers!=0.11.3,<0.14,>=0.11.1 (from transformers)\n",
            "  Downloading tokenizers-0.13.3-cp310-cp310-manylinux_2_17_x86_64.manylinux2014_x86_64.whl (7.8 MB)\n",
            "\u001b[2K     \u001b[90m━━━━━━━━━━━━━━━━━━━━━━━━━━━━━━━━━━━━━━━━\u001b[0m \u001b[32m7.8/7.8 MB\u001b[0m \u001b[31m116.7 MB/s\u001b[0m eta \u001b[36m0:00:00\u001b[0m\n",
            "\u001b[?25hCollecting safetensors>=0.3.1 (from transformers)\n",
            "  Downloading safetensors-0.3.1-cp310-cp310-manylinux_2_17_x86_64.manylinux2014_x86_64.whl (1.3 MB)\n",
            "\u001b[2K     \u001b[90m━━━━━━━━━━━━━━━━━━━━━━━━━━━━━━━━━━━━━━━━\u001b[0m \u001b[32m1.3/1.3 MB\u001b[0m \u001b[31m82.2 MB/s\u001b[0m eta \u001b[36m0:00:00\u001b[0m\n",
            "\u001b[?25hRequirement already satisfied: tqdm>=4.27 in /usr/local/lib/python3.10/dist-packages (from transformers) (4.65.0)\n",
            "Requirement already satisfied: fsspec in /usr/local/lib/python3.10/dist-packages (from huggingface-hub<1.0,>=0.14.1->transformers) (2023.6.0)\n",
            "Requirement already satisfied: typing-extensions>=3.7.4.3 in /usr/local/lib/python3.10/dist-packages (from huggingface-hub<1.0,>=0.14.1->transformers) (4.6.3)\n",
            "Requirement already satisfied: urllib3<1.27,>=1.21.1 in /usr/local/lib/python3.10/dist-packages (from requests->transformers) (1.26.16)\n",
            "Requirement already satisfied: certifi>=2017.4.17 in /usr/local/lib/python3.10/dist-packages (from requests->transformers) (2023.5.7)\n",
            "Requirement already satisfied: charset-normalizer~=2.0.0 in /usr/local/lib/python3.10/dist-packages (from requests->transformers) (2.0.12)\n",
            "Requirement already satisfied: idna<4,>=2.5 in /usr/local/lib/python3.10/dist-packages (from requests->transformers) (3.4)\n",
            "Installing collected packages: tokenizers, safetensors, huggingface-hub, transformers\n",
            "Successfully installed huggingface-hub-0.15.1 safetensors-0.3.1 tokenizers-0.13.3 transformers-4.30.2\n"
          ]
        }
      ]
    },
    {
      "cell_type": "markdown",
      "source": [
        "BERT menggunakan arsitektur Transformer yang terdiri dari lapisan-lapisan self-attention. Self-attention memungkinkan model untuk fokus pada bagian penting dari teks saat memprosesnya, memungkinkan pemahaman yang lebih baik tentang hubungan antara kata-kata dalam teks.\n",
        "\n",
        "Model BERT memiliki beberapa varian dengan ukuran yang berbeda, seperti BERT-base, BERT-large, dan varian lainnya. BERT-base memiliki 12 lapisan self-attention dan total sekitar 110 juta parameter. Sementara itu, BERT-large memiliki 24 lapisan self-attention dan sekitar 340 juta parameter. Model yang lebih besar cenderung memiliki kemampuan yang lebih baik dalam memahami teks, tetapi juga memerlukan lebih banyak sumber daya komputasi untuk melatih dan menerapkannya.\n",
        "\n",
        "Salah satu fitur utama dari BERT adalah kemampuannya untuk menghasilkan representasi kata-kata yang kontekstual, yang berarti representasi kata-kata itu bergantung pada konteks kalimat di mana kata-kata tersebut muncul. Representasi ini memperhitungkan kata-kata sebelum dan sesudahnya dalam kalimat untuk memahami arti kata tersebut dengan lebih baik."
      ],
      "metadata": {
        "id": "Mb2oCZZPCEjf"
      }
    },
    {
      "cell_type": "markdown",
      "source": [
        "Disini saya menggunakan ukuran model berupa 'bert-base-cased' kemudian mengubah label yang tadinya dalam bentuk object akan di ubah ke dalam numerik."
      ],
      "metadata": {
        "id": "YE_QIvhbDN4j"
      }
    },
    {
      "cell_type": "code",
      "source": [
        "tokenizer = BertTokenizer.from_pretrained('bert-base-cased')\n",
        "labels = {'Books':0,\n",
        "          'Household':1,\n",
        "          'Electronics':2,\n",
        "          'Clothing & Accessories':3\n",
        "          }"
      ],
      "metadata": {
        "id": "AzZDQUjb6Ani",
        "colab": {
          "base_uri": "https://localhost:8080/",
          "height": 113,
          "referenced_widgets": [
            "0866c0f4e50f4d829ee7257bc42cd723",
            "3b6bb79758b94d78a810a8b22ede1f64",
            "3fcfd6c01f69490b990fc784276da5ab",
            "4d18bd33e99745e4aaf1a916cd2aff08",
            "fea676d7cb564bdabee73276983e4c8d",
            "f7dea52d57534a339a385c856916cd5c",
            "95a12301020f4f3698f15ed302fa7af1",
            "c290fd460aee4b3bbd873201ca9800b4",
            "261e73096a68465692506bc4bdbf98ef",
            "5d72ca6d4d344ccc8c7cabcd998c28ed",
            "3bc5bcffbd3e47d4af664d2b8fd27879",
            "a2248b34da56436bac474e9053c34a06",
            "ad03b12c8fff4cb2a88f76cae670ee65",
            "57e3c3231ff643bcb5b80e0fe4606e7b",
            "463c07e2b4f247d8a6f46af093260ce4",
            "5e8a2afa1fb64785ba9fe709fd5b59ed",
            "8ddcaf9a64c54d5c96965c7c3e09d20b",
            "f60d0ca3b939423e9dc479092735d45e",
            "60c5e4572c4344fcb20feb6f0df7b965",
            "4f89da8539fe4d2ebaf46a85d3e64563",
            "e61db61f42cc4a5586708a0b51326748",
            "4f9edf2eaa504de9918f9881cad5a52a",
            "529dbe51cdc5424ea9fb55fe2a7e796b",
            "c19dabfef57747daa9e9a08aae3949bd",
            "32abf08b9de14910b73220e47bd6cf27",
            "942a09d73c3149a8a476f23f219b7d23",
            "35c7244e72144ac6a838b999508fbd56",
            "eb06021c09fc4b1bb28202f599e83a31",
            "af3312213550418e8afec745569a0dad",
            "e6fb625bef714ee79923201314189ec7",
            "f08700add1f34b609b75d1713c22a8aa",
            "9355f0795ad74892825925f426335db5",
            "a21923a27cea4ae1aca72fa5d28c98eb"
          ]
        },
        "outputId": "1b68067d-661c-4091-90a6-8103a90abe3f"
      },
      "execution_count": null,
      "outputs": [
        {
          "output_type": "display_data",
          "data": {
            "text/plain": [
              "Downloading (…)solve/main/vocab.txt:   0%|          | 0.00/213k [00:00<?, ?B/s]"
            ],
            "application/vnd.jupyter.widget-view+json": {
              "version_major": 2,
              "version_minor": 0,
              "model_id": "0866c0f4e50f4d829ee7257bc42cd723"
            }
          },
          "metadata": {}
        },
        {
          "output_type": "display_data",
          "data": {
            "text/plain": [
              "Downloading (…)okenizer_config.json:   0%|          | 0.00/29.0 [00:00<?, ?B/s]"
            ],
            "application/vnd.jupyter.widget-view+json": {
              "version_major": 2,
              "version_minor": 0,
              "model_id": "a2248b34da56436bac474e9053c34a06"
            }
          },
          "metadata": {}
        },
        {
          "output_type": "display_data",
          "data": {
            "text/plain": [
              "Downloading (…)lve/main/config.json:   0%|          | 0.00/570 [00:00<?, ?B/s]"
            ],
            "application/vnd.jupyter.widget-view+json": {
              "version_major": 2,
              "version_minor": 0,
              "model_id": "529dbe51cdc5424ea9fb55fe2a7e796b"
            }
          },
          "metadata": {}
        }
      ]
    },
    {
      "cell_type": "markdown",
      "source": [
        "Kelas Dataset di bawah ini digunakan untuk mengorganisir data dalam format yang sesuai dengan kebutuhan pemrosesan dan pelatihan model menggunakan PyTorch. Dalam hal ini, dataset terdiri dari teks dan label kelas yang siap digunakan dalam pelatihan atau evaluasi model Machine Learning."
      ],
      "metadata": {
        "id": "CouFykL-Dfig"
      }
    },
    {
      "cell_type": "code",
      "source": [
        "class Dataset(torch.utils.data.Dataset):\n",
        "\n",
        "    def __init__(self, df):\n",
        "\n",
        "        self.labels = [labels[label] for label in df['label']]\n",
        "        self.texts = [tokenizer(text,\n",
        "                               padding='max_length', max_length = 512, truncation=True,\n",
        "                                return_tensors=\"pt\") for text in df['clean_text']]\n",
        "\n",
        "    # Metode ini mengembalikan nilai dari atribut labels, yaitu daftar label kelas dalam bentuk representasi numerik.\n",
        "    def classes(self):\n",
        "        return self.labels\n",
        "\n",
        "    # Metode ini mengembalikan panjang dataset, yaitu jumlah data yang ada dalam dataset.\n",
        "    def __len__(self):\n",
        "        return len(self.labels)\n",
        "\n",
        "    # Metode ini mengembalikan batch dari label kelas dalam bentuk array numpy.\n",
        "    def get_batch_labels(self, idx):\n",
        "        # Fetch a batch of labels\n",
        "        return np.array(self.labels[idx])\n",
        "\n",
        "    # Metode ini mengembalikan batch dari teks dalam bentuk objek tensor PyTorch.\n",
        "    def get_batch_texts(self, idx):\n",
        "        # Fetch a batch of inputs\n",
        "        return self.texts[idx]\n",
        "\n",
        "    # Metode ini mengembalikan batch teks dan label kelas berdasarkan indeks idx.\n",
        "    def __getitem__(self, idx):\n",
        "\n",
        "        batch_texts = self.get_batch_texts(idx)\n",
        "        batch_y = self.get_batch_labels(idx)\n",
        "\n",
        "        return batch_texts, batch_y"
      ],
      "metadata": {
        "id": "mQPxoVp06AlB"
      },
      "execution_count": null,
      "outputs": []
    },
    {
      "cell_type": "markdown",
      "source": [
        "Code di bawah ini berguna untuk membagi data ke train, validation dan test dengan pembagian data train sebanyak 80%, data validation sebanyak 10% dan data test sebanyak 10%"
      ],
      "metadata": {
        "id": "_F4kXGqAGdwM"
      }
    },
    {
      "cell_type": "code",
      "source": [
        "np.random.seed(112)\n",
        "df_train, df_val, df_test = np.split(df1.sample(frac=1, random_state=42),\n",
        "                                     [int(.8*len(df1)), int(.9*len(df1))])\n",
        "\n",
        "print(len(df_train),len(df_val), len(df_test))"
      ],
      "metadata": {
        "id": "UbgSUx2y6Aip",
        "colab": {
          "base_uri": "https://localhost:8080/"
        },
        "outputId": "c3fb75b0-a4a6-414b-d7f1-f55adedeaac1"
      },
      "execution_count": null,
      "outputs": [
        {
          "output_type": "stream",
          "name": "stdout",
          "text": [
            "10084 1261 1261\n"
          ]
        }
      ]
    },
    {
      "cell_type": "markdown",
      "source": [
        "Kode di bawah mendefinisikan kelas BertClassifier, yang merupakan turunan dari kelas nn.Module dalam framework PyTorch. Kelas ini bertujuan untuk mengimplementasikan model klasifikasi menggunakan arsitektur BERT."
      ],
      "metadata": {
        "id": "9qAmvBXcGxL6"
      }
    },
    {
      "cell_type": "code",
      "source": [
        "class BertClassifier(nn.Module):\n",
        "    # Pada bagian ini, metode konstruktor melakukan inisialisasi beberapa komponen model, yaitu BERT, lapisan dropout, lapisan linear, dan fungsi aktivasi ReLU.\n",
        "    def __init__(self, dropout=0.5):\n",
        "\n",
        "        super(BertClassifier, self).__init__()\n",
        "\n",
        "        # Bagian ini menginisialisasi model BERT menggunakan pre-trained model bert-base-cased.\n",
        "        self.bert = BertModel.from_pretrained('bert-base-cased')\n",
        "        self.dropout = nn.Dropout(dropout)\n",
        "        self.linear = nn.Linear(768, 5) # input ukuran 768 dan output ukuran 5.\n",
        "        self.relu = nn.ReLU()\n",
        "\n",
        "    # Metode forward digunakan untuk mengimplementasikan aliran data maju (forward pass) melalui model.\n",
        "    # Hasil akhirnya adalah output model yang merupakan representasi hasil klasifikasi.\n",
        "    def forward(self, input_id, mask):\n",
        "\n",
        "        _, pooled_output = self.bert(input_ids= input_id, attention_mask=mask,return_dict=False)\n",
        "        dropout_output = self.dropout(pooled_output)\n",
        "        linear_output = self.linear(dropout_output)\n",
        "        final_layer = self.relu(linear_output)\n",
        "\n",
        "        return final_layer"
      ],
      "metadata": {
        "id": "9gLF54V16AgV"
      },
      "execution_count": null,
      "outputs": []
    },
    {
      "cell_type": "markdown",
      "source": [
        "Kode di bawah adalah sebuah fungsi train yang digunakan untuk melatih (training) model klasifikasi menggunakan data pelatihan (train_data) dan data validasi (val_data). Fungsi ini melakukan pelatihan model dengan menggunakan algoritma backpropagation dan optimisasi stokastik gradien.\n",
        "\n",
        "Di function ini juga Saya menggunakan 2 Hyperparameter yang bisa di tuning yaitu di batch_size dan juga di learning rate, jadi untuk meningkatkan hasil akurasi anda bisa saja mengubah kedua hyperparameter ini untuk mendapatkan hasil yang lebih memuaskan."
      ],
      "metadata": {
        "id": "1AEkbDWqII_c"
      }
    },
    {
      "cell_type": "code",
      "source": [
        "def train(model, train_data, val_data, learning_rate, epochs):\n",
        "\n",
        "    train, val = Dataset(train_data), Dataset(val_data)\n",
        "\n",
        "    train_dataloader = torch.utils.data.DataLoader(train, batch_size=2, shuffle=True)\n",
        "    val_dataloader = torch.utils.data.DataLoader(val, batch_size=2)\n",
        "\n",
        "    use_cuda = torch.cuda.is_available()\n",
        "    device = torch.device(\"cuda\" if use_cuda else \"cpu\")\n",
        "\n",
        "    criterion = nn.CrossEntropyLoss()\n",
        "    optimizer = Adam(model.parameters(), lr= learning_rate)\n",
        "\n",
        "    if use_cuda:\n",
        "\n",
        "            model = model.cuda()\n",
        "            criterion = criterion.cuda()\n",
        "\n",
        "    for epoch_num in range(epochs):\n",
        "\n",
        "            total_acc_train = 0\n",
        "            total_loss_train = 0\n",
        "\n",
        "            for train_input, train_label in tqdm(train_dataloader):\n",
        "\n",
        "                train_label = train_label.to(device)\n",
        "                mask = train_input['attention_mask'].to(device)\n",
        "                input_id = train_input['input_ids'].squeeze(1).to(device)\n",
        "\n",
        "                output = model(input_id, mask)\n",
        "\n",
        "                batch_loss = criterion(output, train_label.long())\n",
        "                total_loss_train += batch_loss.item()\n",
        "\n",
        "                acc = (output.argmax(dim=1) == train_label).sum().item()\n",
        "                total_acc_train += acc\n",
        "\n",
        "                model.zero_grad()\n",
        "                batch_loss.backward()\n",
        "                optimizer.step()\n",
        "\n",
        "            total_acc_val = 0\n",
        "            total_loss_val = 0\n",
        "\n",
        "            with torch.no_grad():\n",
        "\n",
        "                for val_input, val_label in val_dataloader:\n",
        "\n",
        "                    val_label = val_label.to(device)\n",
        "                    mask = val_input['attention_mask'].to(device)\n",
        "                    input_id = val_input['input_ids'].squeeze(1).to(device)\n",
        "\n",
        "                    output = model(input_id, mask)\n",
        "\n",
        "                    batch_loss = criterion(output, val_label.long())\n",
        "                    total_loss_val += batch_loss.item()\n",
        "\n",
        "                    acc = (output.argmax(dim=1) == val_label).sum().item()\n",
        "                    total_acc_val += acc\n",
        "\n",
        "            print(\n",
        "                f'Epochs: {epoch_num + 1} | Train Loss: {total_loss_train / len(train_data): .3f} \\\n",
        "                | Train Accuracy: {total_acc_train / len(train_data): .3f} \\\n",
        "                | Val Loss: {total_loss_val / len(val_data): .3f} \\\n",
        "                | Val Accuracy: {total_acc_val / len(val_data): .3f}')\n",
        "\n",
        "EPOCHS = 5\n",
        "model = BertClassifier()\n",
        "LR = 1e-6\n",
        "\n",
        "train(model, df_train, df_val, LR, EPOCHS)"
      ],
      "metadata": {
        "id": "2jnHiuD06Adp",
        "colab": {
          "base_uri": "https://localhost:8080/",
          "height": 309,
          "referenced_widgets": [
            "401a457f6d334fd8a2ff1cc87a9d0d21",
            "70b4605b0cf94c56b336dbe6bb5a6d18",
            "a41b151657034a0693e099c1a5b2f124",
            "0bb5398761234edc88919ba6e7727f3d",
            "bc3c340f1fcf4fe789814dcf0418b4fc",
            "7751afb557554ce28ca974d67a1d4350",
            "4324655eb0c74a65b74563c131b0a623",
            "494ff1cdbade457d8a67a3925d1247a7",
            "df9f3ba8dc8940d68f6919e0b1e33b84",
            "59d8e72b64684c328437727ba8219dee",
            "43f3fe4929a641878269511b576b6521"
          ]
        },
        "outputId": "29c6d7c3-d6c5-4602-af86-f6aa23b347a5"
      },
      "execution_count": null,
      "outputs": [
        {
          "output_type": "display_data",
          "data": {
            "text/plain": [
              "Downloading model.safetensors:   0%|          | 0.00/436M [00:00<?, ?B/s]"
            ],
            "application/vnd.jupyter.widget-view+json": {
              "version_major": 2,
              "version_minor": 0,
              "model_id": "401a457f6d334fd8a2ff1cc87a9d0d21"
            }
          },
          "metadata": {}
        },
        {
          "output_type": "stream",
          "name": "stderr",
          "text": [
            "Some weights of the model checkpoint at bert-base-cased were not used when initializing BertModel: ['cls.seq_relationship.weight', 'cls.predictions.bias', 'cls.predictions.transform.dense.bias', 'cls.predictions.transform.dense.weight', 'cls.predictions.transform.LayerNorm.bias', 'cls.predictions.transform.LayerNorm.weight', 'cls.seq_relationship.bias']\n",
            "- This IS expected if you are initializing BertModel from the checkpoint of a model trained on another task or with another architecture (e.g. initializing a BertForSequenceClassification model from a BertForPreTraining model).\n",
            "- This IS NOT expected if you are initializing BertModel from the checkpoint of a model that you expect to be exactly identical (initializing a BertForSequenceClassification model from a BertForSequenceClassification model).\n",
            "100%|██████████| 5042/5042 [17:08<00:00,  4.90it/s]\n"
          ]
        },
        {
          "output_type": "stream",
          "name": "stdout",
          "text": [
            "Epochs: 1 | Train Loss:  0.338                 | Train Accuracy:  0.792                 | Val Loss:  0.124                 | Val Accuracy:  0.947\n"
          ]
        },
        {
          "output_type": "stream",
          "name": "stderr",
          "text": [
            "100%|██████████| 5042/5042 [17:07<00:00,  4.91it/s]\n"
          ]
        },
        {
          "output_type": "stream",
          "name": "stdout",
          "text": [
            "Epochs: 2 | Train Loss:  0.119                 | Train Accuracy:  0.945                 | Val Loss:  0.109                 | Val Accuracy:  0.947\n"
          ]
        },
        {
          "output_type": "stream",
          "name": "stderr",
          "text": [
            "100%|██████████| 5042/5042 [17:08<00:00,  4.90it/s]\n"
          ]
        },
        {
          "output_type": "stream",
          "name": "stdout",
          "text": [
            "Epochs: 3 | Train Loss:  0.084                 | Train Accuracy:  0.962                 | Val Loss:  0.083                 | Val Accuracy:  0.960\n"
          ]
        },
        {
          "output_type": "stream",
          "name": "stderr",
          "text": [
            "100%|██████████| 5042/5042 [17:07<00:00,  4.91it/s]\n"
          ]
        },
        {
          "output_type": "stream",
          "name": "stdout",
          "text": [
            "Epochs: 4 | Train Loss:  0.060                 | Train Accuracy:  0.974                 | Val Loss:  0.087                 | Val Accuracy:  0.956\n"
          ]
        },
        {
          "output_type": "stream",
          "name": "stderr",
          "text": [
            "100%|██████████| 5042/5042 [17:08<00:00,  4.90it/s]\n"
          ]
        },
        {
          "output_type": "stream",
          "name": "stdout",
          "text": [
            "Epochs: 5 | Train Loss:  0.044                 | Train Accuracy:  0.981                 | Val Loss:  0.083                 | Val Accuracy:  0.960\n"
          ]
        }
      ]
    },
    {
      "cell_type": "markdown",
      "source": [
        "Kode di bawah adalah sebuah fungsi evaluate yang digunakan untuk mengevaluasi performa model klasifikasi pada data uji (test_data). Fungsi ini menghitung akurasi prediksi model terhadap data uji."
      ],
      "metadata": {
        "id": "ID6wdVpyJGPk"
      }
    },
    {
      "cell_type": "code",
      "source": [
        "def evaluate(model, test_data):\n",
        "\n",
        "    test = Dataset(test_data)\n",
        "\n",
        "    test_dataloader = torch.utils.data.DataLoader(test, batch_size=2)\n",
        "\n",
        "    use_cuda = torch.cuda.is_available()\n",
        "    device = torch.device(\"cuda\" if use_cuda else \"cpu\")\n",
        "\n",
        "    if use_cuda:\n",
        "\n",
        "        model = model.cuda()\n",
        "\n",
        "    total_acc_test = 0\n",
        "    with torch.no_grad():\n",
        "\n",
        "        for test_input, test_label in test_dataloader:\n",
        "\n",
        "              test_label = test_label.to(device)\n",
        "              mask = test_input['attention_mask'].to(device)\n",
        "              input_id = test_input['input_ids'].squeeze(1).to(device)\n",
        "\n",
        "              output = model(input_id, mask)\n",
        "\n",
        "              acc = (output.argmax(dim=1) == test_label).sum().item()\n",
        "              total_acc_test += acc\n",
        "\n",
        "    print(f'Test Accuracy: {total_acc_test / len(test_data): .3f}')\n",
        "\n",
        "evaluate(model, df_test)"
      ],
      "metadata": {
        "id": "Y9ax-plL6AbM",
        "colab": {
          "base_uri": "https://localhost:8080/"
        },
        "outputId": "a49521fa-c7ed-4c30-ba2f-9179983488e7"
      },
      "execution_count": null,
      "outputs": [
        {
          "output_type": "stream",
          "name": "stdout",
          "text": [
            "Test Accuracy:  0.947\n"
          ]
        }
      ]
    },
    {
      "cell_type": "markdown",
      "source": [
        "Akurasi yang dihasilkan oleh model BERT ini sebesar 0.947 menurut saya hasil ini sudah cukup memuaskan karna tingakt akurasi yang sudah sangat tinggi. Jika ingin mencapai akurasi yang lebih tinggi lagi, bisa dilakukan dengan cara mengubah nilai dari hyperparameter jadi bisa dilakukan tuning sesuka hati."
      ],
      "metadata": {
        "id": "qaIW8tshJJRz"
      }
    }
  ]
}