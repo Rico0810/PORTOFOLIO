{
  "nbformat": 4,
  "nbformat_minor": 0,
  "metadata": {
    "colab": {
      "provenance": []
    },
    "kernelspec": {
      "name": "python3",
      "display_name": "Python 3"
    },
    "language_info": {
      "name": "python"
    }
  },
  "cells": [
    {
      "cell_type": "markdown",
      "source": [
        "# NATURAL LANGUAGE PROCESSING"
      ],
      "metadata": {
        "id": "QeteB8o3NoCd"
      }
    },
    {
      "cell_type": "markdown",
      "source": [
        "## Import Library"
      ],
      "metadata": {
        "id": "EsjdGg9j6isB"
      }
    },
    {
      "cell_type": "markdown",
      "source": [
        "Berikut ini adalah beberapa library yang dipakai untuk melakukan proses Long Short Term Memory pada Natural Language Processing (NLP)."
      ],
      "metadata": {
        "id": "Zzduoyk_6kZv"
      }
    },
    {
      "cell_type": "code",
      "execution_count": null,
      "metadata": {
        "colab": {
          "base_uri": "https://localhost:8080/"
        },
        "id": "-4VScg9GXDFJ",
        "outputId": "b60082dd-39be-49fd-acd3-70381bae4eb2"
      },
      "outputs": [
        {
          "output_type": "stream",
          "name": "stdout",
          "text": [
            "\u001b[?25l     \u001b[90m━━━━━━━━━━━━━━━━━━━━━━━━━━━━━━━━━━━━━━━━\u001b[0m \u001b[32m0.0/240.9 KB\u001b[0m \u001b[31m?\u001b[0m eta \u001b[36m-:--:--\u001b[0m\r\u001b[2K     \u001b[90m━━━━━━━━━━━━━━━━━━━━━━━━━━━━━━━━━━━━━━\u001b[0m \u001b[32m240.9/240.9 KB\u001b[0m \u001b[31m12.0 MB/s\u001b[0m eta \u001b[36m0:00:00\u001b[0m\n",
            "\u001b[?25h  Preparing metadata (setup.py) ... \u001b[?25l\u001b[?25hdone\n",
            "  Building wheel for emoji (setup.py) ... \u001b[?25l\u001b[?25hdone\n",
            "\u001b[2K     \u001b[90m━━━━━━━━━━━━━━━━━━━━━━━━━━━━━━━━━━━━━━\u001b[0m \u001b[32m148.6/148.6 KB\u001b[0m \u001b[31m11.7 MB/s\u001b[0m eta \u001b[36m0:00:00\u001b[0m\n",
            "\u001b[2K     \u001b[90m━━━━━━━━━━━━━━━━━━━━━━━━━━━━━━━━━━━━━━━━\u001b[0m \u001b[32m6.3/6.3 MB\u001b[0m \u001b[31m65.5 MB/s\u001b[0m eta \u001b[36m0:00:00\u001b[0m\n",
            "\u001b[2K     \u001b[90m━━━━━━━━━━━━━━━━━━━━━━━━━━━━━━━━━━━━━━\u001b[0m \u001b[32m190.3/190.3 KB\u001b[0m \u001b[31m19.3 MB/s\u001b[0m eta \u001b[36m0:00:00\u001b[0m\n",
            "\u001b[2K     \u001b[90m━━━━━━━━━━━━━━━━━━━━━━━━━━━━━━━━━━━━━━━━\u001b[0m \u001b[32m7.6/7.6 MB\u001b[0m \u001b[31m68.6 MB/s\u001b[0m eta \u001b[36m0:00:00\u001b[0m\n",
            "\u001b[?25h  Preparing metadata (setup.py) ... \u001b[?25l\u001b[?25hdone\n",
            "  Building wheel for pad_sequences (setup.py) ... \u001b[?25l\u001b[?25hdone\n"
          ]
        },
        {
          "output_type": "stream",
          "name": "stderr",
          "text": [
            "[nltk_data] Downloading package stopwords to /root/nltk_data...\n",
            "[nltk_data]   Unzipping corpora/stopwords.zip.\n",
            "[nltk_data] Downloading package wordnet to /root/nltk_data...\n",
            "[nltk_data] Downloading package omw-1.4 to /root/nltk_data...\n"
          ]
        }
      ],
      "source": [
        "!pip install emoji -q\n",
        "!pip install pandas-stubs -q\n",
        "!pip install transformers -q\n",
        "!pip install pad_sequences -q\n",
        "# Importing required libraries\n",
        "import nltk\n",
        "nltk.download('stopwords')\n",
        "nltk.download('wordnet')\n",
        "nltk.download('omw-1.4')\n",
        "\n",
        "import pandas as pd\n",
        "import numpy as np\n",
        "from nltk.corpus import stopwords\n",
        "from textblob import Word\n",
        "from sklearn.preprocessing import LabelEncoder\n",
        "from collections import Counter\n",
        "import wordcloud\n",
        "from sklearn.metrics import classification_report,confusion_matrix,accuracy_score\n",
        "from keras.models import Sequential\n",
        "from keras.preprocessing.text import Tokenizer\n",
        "from tensorflow.keras.preprocessing.sequence import pad_sequences\n",
        "from keras.layers import Dense, Embedding, LSTM, SpatialDropout1D\n",
        "from sklearn.model_selection import train_test_split\n",
        "import matplotlib.pyplot as plt\n",
        "import re\n",
        "import emoji\n"
      ]
    },
    {
      "cell_type": "markdown",
      "source": [
        "## Import Dataset and Data Exploration"
      ],
      "metadata": {
        "id": "t8rVfd-06-Ku"
      }
    },
    {
      "cell_type": "markdown",
      "source": [
        "Saya melakukan upload 'dataset.csv' secara manual ke collab. Maka dari itu disini saya tidak perlu menghubungkannya ke google drive. Jadi bisa langsung baca dataset dengan code di bawah ini."
      ],
      "metadata": {
        "id": "s0MgSggU8B8h"
      }
    },
    {
      "cell_type": "code",
      "source": [
        "mydata = pd.read_csv('/content/dataset.csv')\n",
        "mydata.head()"
      ],
      "metadata": {
        "colab": {
          "base_uri": "https://localhost:8080/",
          "height": 337
        },
        "id": "NhdsF5eNXl5e",
        "outputId": "e2c555a3-cde1-45cc-9652-e23ed5e58a58"
      },
      "execution_count": null,
      "outputs": [
        {
          "output_type": "execute_result",
          "data": {
            "text/plain": [
              "                               reviewId  \\\n",
              "0  326d4bdd-8fc6-4d64-b3bf-ce393fb2ae9b   \n",
              "1  4bbf741b-2f69-43cd-bb76-f9b5f84c83b5   \n",
              "2  3cb1136d-e7c6-4999-aa84-fdc7bcdccf56   \n",
              "3  d6f80f05-a6e8-44f3-a380-7c59ed3d208b   \n",
              "4  eecb277c-c658-4b2d-86c9-77d3a7022cac   \n",
              "\n",
              "                                             content  score  thumbsUpCount  \\\n",
              "0                                               woww      5              0   \n",
              "1                let me know more details about this      3              0   \n",
              "2  i've been using this for a while and there's a...      2              0   \n",
              "3                                               good      2              0   \n",
              "4                                             mjkobe      5              0   \n",
              "\n",
              "  reviewCreatedVersion                   at replyContent repliedAt  \\\n",
              "0                  NaN  2022-08-16 05:55:38          NaN       NaN   \n",
              "1          4.5.1143533  2022-08-16 04:44:45          NaN       NaN   \n",
              "2          4.5.1143533  2022-08-16 04:05:27          NaN       NaN   \n",
              "3          4.5.1143533  2022-08-16 00:22:33          NaN       NaN   \n",
              "4          4.5.1143533  2022-08-15 20:08:25          NaN       NaN   \n",
              "\n",
              "  predicted_category sentiment  \n",
              "0    USER_EXPERIENCE   NEUTRAL  \n",
              "1            CONTENT   NEUTRAL  \n",
              "2          INTERFACE  NEGATIVE  \n",
              "3    USER_EXPERIENCE  POSITIVE  \n",
              "4    USER_EXPERIENCE   NEUTRAL  "
            ],
            "text/html": [
              "\n",
              "  <div id=\"df-0927724a-fc22-4aed-a2bf-072e26d2eab8\">\n",
              "    <div class=\"colab-df-container\">\n",
              "      <div>\n",
              "<style scoped>\n",
              "    .dataframe tbody tr th:only-of-type {\n",
              "        vertical-align: middle;\n",
              "    }\n",
              "\n",
              "    .dataframe tbody tr th {\n",
              "        vertical-align: top;\n",
              "    }\n",
              "\n",
              "    .dataframe thead th {\n",
              "        text-align: right;\n",
              "    }\n",
              "</style>\n",
              "<table border=\"1\" class=\"dataframe\">\n",
              "  <thead>\n",
              "    <tr style=\"text-align: right;\">\n",
              "      <th></th>\n",
              "      <th>reviewId</th>\n",
              "      <th>content</th>\n",
              "      <th>score</th>\n",
              "      <th>thumbsUpCount</th>\n",
              "      <th>reviewCreatedVersion</th>\n",
              "      <th>at</th>\n",
              "      <th>replyContent</th>\n",
              "      <th>repliedAt</th>\n",
              "      <th>predicted_category</th>\n",
              "      <th>sentiment</th>\n",
              "    </tr>\n",
              "  </thead>\n",
              "  <tbody>\n",
              "    <tr>\n",
              "      <th>0</th>\n",
              "      <td>326d4bdd-8fc6-4d64-b3bf-ce393fb2ae9b</td>\n",
              "      <td>woww</td>\n",
              "      <td>5</td>\n",
              "      <td>0</td>\n",
              "      <td>NaN</td>\n",
              "      <td>2022-08-16 05:55:38</td>\n",
              "      <td>NaN</td>\n",
              "      <td>NaN</td>\n",
              "      <td>USER_EXPERIENCE</td>\n",
              "      <td>NEUTRAL</td>\n",
              "    </tr>\n",
              "    <tr>\n",
              "      <th>1</th>\n",
              "      <td>4bbf741b-2f69-43cd-bb76-f9b5f84c83b5</td>\n",
              "      <td>let me know more details about this</td>\n",
              "      <td>3</td>\n",
              "      <td>0</td>\n",
              "      <td>4.5.1143533</td>\n",
              "      <td>2022-08-16 04:44:45</td>\n",
              "      <td>NaN</td>\n",
              "      <td>NaN</td>\n",
              "      <td>CONTENT</td>\n",
              "      <td>NEUTRAL</td>\n",
              "    </tr>\n",
              "    <tr>\n",
              "      <th>2</th>\n",
              "      <td>3cb1136d-e7c6-4999-aa84-fdc7bcdccf56</td>\n",
              "      <td>i've been using this for a while and there's a...</td>\n",
              "      <td>2</td>\n",
              "      <td>0</td>\n",
              "      <td>4.5.1143533</td>\n",
              "      <td>2022-08-16 04:05:27</td>\n",
              "      <td>NaN</td>\n",
              "      <td>NaN</td>\n",
              "      <td>INTERFACE</td>\n",
              "      <td>NEGATIVE</td>\n",
              "    </tr>\n",
              "    <tr>\n",
              "      <th>3</th>\n",
              "      <td>d6f80f05-a6e8-44f3-a380-7c59ed3d208b</td>\n",
              "      <td>good</td>\n",
              "      <td>2</td>\n",
              "      <td>0</td>\n",
              "      <td>4.5.1143533</td>\n",
              "      <td>2022-08-16 00:22:33</td>\n",
              "      <td>NaN</td>\n",
              "      <td>NaN</td>\n",
              "      <td>USER_EXPERIENCE</td>\n",
              "      <td>POSITIVE</td>\n",
              "    </tr>\n",
              "    <tr>\n",
              "      <th>4</th>\n",
              "      <td>eecb277c-c658-4b2d-86c9-77d3a7022cac</td>\n",
              "      <td>mjkobe</td>\n",
              "      <td>5</td>\n",
              "      <td>0</td>\n",
              "      <td>4.5.1143533</td>\n",
              "      <td>2022-08-15 20:08:25</td>\n",
              "      <td>NaN</td>\n",
              "      <td>NaN</td>\n",
              "      <td>USER_EXPERIENCE</td>\n",
              "      <td>NEUTRAL</td>\n",
              "    </tr>\n",
              "  </tbody>\n",
              "</table>\n",
              "</div>\n",
              "      <button class=\"colab-df-convert\" onclick=\"convertToInteractive('df-0927724a-fc22-4aed-a2bf-072e26d2eab8')\"\n",
              "              title=\"Convert this dataframe to an interactive table.\"\n",
              "              style=\"display:none;\">\n",
              "        \n",
              "  <svg xmlns=\"http://www.w3.org/2000/svg\" height=\"24px\"viewBox=\"0 0 24 24\"\n",
              "       width=\"24px\">\n",
              "    <path d=\"M0 0h24v24H0V0z\" fill=\"none\"/>\n",
              "    <path d=\"M18.56 5.44l.94 2.06.94-2.06 2.06-.94-2.06-.94-.94-2.06-.94 2.06-2.06.94zm-11 1L8.5 8.5l.94-2.06 2.06-.94-2.06-.94L8.5 2.5l-.94 2.06-2.06.94zm10 10l.94 2.06.94-2.06 2.06-.94-2.06-.94-.94-2.06-.94 2.06-2.06.94z\"/><path d=\"M17.41 7.96l-1.37-1.37c-.4-.4-.92-.59-1.43-.59-.52 0-1.04.2-1.43.59L10.3 9.45l-7.72 7.72c-.78.78-.78 2.05 0 2.83L4 21.41c.39.39.9.59 1.41.59.51 0 1.02-.2 1.41-.59l7.78-7.78 2.81-2.81c.8-.78.8-2.07 0-2.86zM5.41 20L4 18.59l7.72-7.72 1.47 1.35L5.41 20z\"/>\n",
              "  </svg>\n",
              "      </button>\n",
              "      \n",
              "  <style>\n",
              "    .colab-df-container {\n",
              "      display:flex;\n",
              "      flex-wrap:wrap;\n",
              "      gap: 12px;\n",
              "    }\n",
              "\n",
              "    .colab-df-convert {\n",
              "      background-color: #E8F0FE;\n",
              "      border: none;\n",
              "      border-radius: 50%;\n",
              "      cursor: pointer;\n",
              "      display: none;\n",
              "      fill: #1967D2;\n",
              "      height: 32px;\n",
              "      padding: 0 0 0 0;\n",
              "      width: 32px;\n",
              "    }\n",
              "\n",
              "    .colab-df-convert:hover {\n",
              "      background-color: #E2EBFA;\n",
              "      box-shadow: 0px 1px 2px rgba(60, 64, 67, 0.3), 0px 1px 3px 1px rgba(60, 64, 67, 0.15);\n",
              "      fill: #174EA6;\n",
              "    }\n",
              "\n",
              "    [theme=dark] .colab-df-convert {\n",
              "      background-color: #3B4455;\n",
              "      fill: #D2E3FC;\n",
              "    }\n",
              "\n",
              "    [theme=dark] .colab-df-convert:hover {\n",
              "      background-color: #434B5C;\n",
              "      box-shadow: 0px 1px 3px 1px rgba(0, 0, 0, 0.15);\n",
              "      filter: drop-shadow(0px 1px 2px rgba(0, 0, 0, 0.3));\n",
              "      fill: #FFFFFF;\n",
              "    }\n",
              "  </style>\n",
              "\n",
              "      <script>\n",
              "        const buttonEl =\n",
              "          document.querySelector('#df-0927724a-fc22-4aed-a2bf-072e26d2eab8 button.colab-df-convert');\n",
              "        buttonEl.style.display =\n",
              "          google.colab.kernel.accessAllowed ? 'block' : 'none';\n",
              "\n",
              "        async function convertToInteractive(key) {\n",
              "          const element = document.querySelector('#df-0927724a-fc22-4aed-a2bf-072e26d2eab8');\n",
              "          const dataTable =\n",
              "            await google.colab.kernel.invokeFunction('convertToInteractive',\n",
              "                                                     [key], {});\n",
              "          if (!dataTable) return;\n",
              "\n",
              "          const docLinkHtml = 'Like what you see? Visit the ' +\n",
              "            '<a target=\"_blank\" href=https://colab.research.google.com/notebooks/data_table.ipynb>data table notebook</a>'\n",
              "            + ' to learn more about interactive tables.';\n",
              "          element.innerHTML = '';\n",
              "          dataTable['output_type'] = 'display_data';\n",
              "          await google.colab.output.renderOutput(dataTable, element);\n",
              "          const docLink = document.createElement('div');\n",
              "          docLink.innerHTML = docLinkHtml;\n",
              "          element.appendChild(docLink);\n",
              "        }\n",
              "      </script>\n",
              "    </div>\n",
              "  </div>\n",
              "  "
            ]
          },
          "metadata": {},
          "execution_count": 2
        }
      ]
    },
    {
      "cell_type": "code",
      "source": [
        "mydata.tail()"
      ],
      "metadata": {
        "colab": {
          "base_uri": "https://localhost:8080/",
          "height": 337
        },
        "id": "IqTIekUUXl3O",
        "outputId": "aecb261a-cf5f-4bb2-8178-c635118197fd"
      },
      "execution_count": null,
      "outputs": [
        {
          "output_type": "execute_result",
          "data": {
            "text/plain": [
              "                                   reviewId  \\\n",
              "45409  d9964102-00a0-49ef-9286-b1c47581b7c5   \n",
              "45410  014ea3e3-4d68-4917-a1f5-95a65c3839b7   \n",
              "45411  08fe9675-f425-490c-9bfe-c2e214015c0d   \n",
              "45412  ce773043-cd63-4cf1-af47-2ffc8b564619   \n",
              "45413  42bb2d92-7200-4baf-8efa-df358a7a9264   \n",
              "\n",
              "                                          content  score  thumbsUpCount  \\\n",
              "45409                             very useful app      4              0   \n",
              "45410                 try it. see why it rates 1.      1              0   \n",
              "45411  nice and easy very fast updates about news      5              0   \n",
              "45412                      this site is awesome .      4              0   \n",
              "45413                   cool newsletter timeline.      5              0   \n",
              "\n",
              "      reviewCreatedVersion                   at replyContent repliedAt  \\\n",
              "45409          4.5.1155382  2022-12-20 15:53:24          NaN       NaN   \n",
              "45410                  NaN  2022-12-20 14:48:49          NaN       NaN   \n",
              "45411          4.5.1156292  2022-12-20 14:29:05          NaN       NaN   \n",
              "45412          4.5.1156292  2022-12-20 14:26:21          NaN       NaN   \n",
              "45413          4.5.1156292  2022-12-20 14:17:55          NaN       NaN   \n",
              "\n",
              "      predicted_category sentiment  \n",
              "45409    USER_EXPERIENCE  POSITIVE  \n",
              "45410          INTERFACE   NEUTRAL  \n",
              "45411          INTERFACE  POSITIVE  \n",
              "45412    USER_EXPERIENCE  POSITIVE  \n",
              "45413            CONTENT  POSITIVE  "
            ],
            "text/html": [
              "\n",
              "  <div id=\"df-f5344c7d-90d5-479b-ab7c-cbc60994a8f5\">\n",
              "    <div class=\"colab-df-container\">\n",
              "      <div>\n",
              "<style scoped>\n",
              "    .dataframe tbody tr th:only-of-type {\n",
              "        vertical-align: middle;\n",
              "    }\n",
              "\n",
              "    .dataframe tbody tr th {\n",
              "        vertical-align: top;\n",
              "    }\n",
              "\n",
              "    .dataframe thead th {\n",
              "        text-align: right;\n",
              "    }\n",
              "</style>\n",
              "<table border=\"1\" class=\"dataframe\">\n",
              "  <thead>\n",
              "    <tr style=\"text-align: right;\">\n",
              "      <th></th>\n",
              "      <th>reviewId</th>\n",
              "      <th>content</th>\n",
              "      <th>score</th>\n",
              "      <th>thumbsUpCount</th>\n",
              "      <th>reviewCreatedVersion</th>\n",
              "      <th>at</th>\n",
              "      <th>replyContent</th>\n",
              "      <th>repliedAt</th>\n",
              "      <th>predicted_category</th>\n",
              "      <th>sentiment</th>\n",
              "    </tr>\n",
              "  </thead>\n",
              "  <tbody>\n",
              "    <tr>\n",
              "      <th>45409</th>\n",
              "      <td>d9964102-00a0-49ef-9286-b1c47581b7c5</td>\n",
              "      <td>very useful app</td>\n",
              "      <td>4</td>\n",
              "      <td>0</td>\n",
              "      <td>4.5.1155382</td>\n",
              "      <td>2022-12-20 15:53:24</td>\n",
              "      <td>NaN</td>\n",
              "      <td>NaN</td>\n",
              "      <td>USER_EXPERIENCE</td>\n",
              "      <td>POSITIVE</td>\n",
              "    </tr>\n",
              "    <tr>\n",
              "      <th>45410</th>\n",
              "      <td>014ea3e3-4d68-4917-a1f5-95a65c3839b7</td>\n",
              "      <td>try it. see why it rates 1.</td>\n",
              "      <td>1</td>\n",
              "      <td>0</td>\n",
              "      <td>NaN</td>\n",
              "      <td>2022-12-20 14:48:49</td>\n",
              "      <td>NaN</td>\n",
              "      <td>NaN</td>\n",
              "      <td>INTERFACE</td>\n",
              "      <td>NEUTRAL</td>\n",
              "    </tr>\n",
              "    <tr>\n",
              "      <th>45411</th>\n",
              "      <td>08fe9675-f425-490c-9bfe-c2e214015c0d</td>\n",
              "      <td>nice and easy very fast updates about news</td>\n",
              "      <td>5</td>\n",
              "      <td>0</td>\n",
              "      <td>4.5.1156292</td>\n",
              "      <td>2022-12-20 14:29:05</td>\n",
              "      <td>NaN</td>\n",
              "      <td>NaN</td>\n",
              "      <td>INTERFACE</td>\n",
              "      <td>POSITIVE</td>\n",
              "    </tr>\n",
              "    <tr>\n",
              "      <th>45412</th>\n",
              "      <td>ce773043-cd63-4cf1-af47-2ffc8b564619</td>\n",
              "      <td>this site is awesome .</td>\n",
              "      <td>4</td>\n",
              "      <td>0</td>\n",
              "      <td>4.5.1156292</td>\n",
              "      <td>2022-12-20 14:26:21</td>\n",
              "      <td>NaN</td>\n",
              "      <td>NaN</td>\n",
              "      <td>USER_EXPERIENCE</td>\n",
              "      <td>POSITIVE</td>\n",
              "    </tr>\n",
              "    <tr>\n",
              "      <th>45413</th>\n",
              "      <td>42bb2d92-7200-4baf-8efa-df358a7a9264</td>\n",
              "      <td>cool newsletter timeline.</td>\n",
              "      <td>5</td>\n",
              "      <td>0</td>\n",
              "      <td>4.5.1156292</td>\n",
              "      <td>2022-12-20 14:17:55</td>\n",
              "      <td>NaN</td>\n",
              "      <td>NaN</td>\n",
              "      <td>CONTENT</td>\n",
              "      <td>POSITIVE</td>\n",
              "    </tr>\n",
              "  </tbody>\n",
              "</table>\n",
              "</div>\n",
              "      <button class=\"colab-df-convert\" onclick=\"convertToInteractive('df-f5344c7d-90d5-479b-ab7c-cbc60994a8f5')\"\n",
              "              title=\"Convert this dataframe to an interactive table.\"\n",
              "              style=\"display:none;\">\n",
              "        \n",
              "  <svg xmlns=\"http://www.w3.org/2000/svg\" height=\"24px\"viewBox=\"0 0 24 24\"\n",
              "       width=\"24px\">\n",
              "    <path d=\"M0 0h24v24H0V0z\" fill=\"none\"/>\n",
              "    <path d=\"M18.56 5.44l.94 2.06.94-2.06 2.06-.94-2.06-.94-.94-2.06-.94 2.06-2.06.94zm-11 1L8.5 8.5l.94-2.06 2.06-.94-2.06-.94L8.5 2.5l-.94 2.06-2.06.94zm10 10l.94 2.06.94-2.06 2.06-.94-2.06-.94-.94-2.06-.94 2.06-2.06.94z\"/><path d=\"M17.41 7.96l-1.37-1.37c-.4-.4-.92-.59-1.43-.59-.52 0-1.04.2-1.43.59L10.3 9.45l-7.72 7.72c-.78.78-.78 2.05 0 2.83L4 21.41c.39.39.9.59 1.41.59.51 0 1.02-.2 1.41-.59l7.78-7.78 2.81-2.81c.8-.78.8-2.07 0-2.86zM5.41 20L4 18.59l7.72-7.72 1.47 1.35L5.41 20z\"/>\n",
              "  </svg>\n",
              "      </button>\n",
              "      \n",
              "  <style>\n",
              "    .colab-df-container {\n",
              "      display:flex;\n",
              "      flex-wrap:wrap;\n",
              "      gap: 12px;\n",
              "    }\n",
              "\n",
              "    .colab-df-convert {\n",
              "      background-color: #E8F0FE;\n",
              "      border: none;\n",
              "      border-radius: 50%;\n",
              "      cursor: pointer;\n",
              "      display: none;\n",
              "      fill: #1967D2;\n",
              "      height: 32px;\n",
              "      padding: 0 0 0 0;\n",
              "      width: 32px;\n",
              "    }\n",
              "\n",
              "    .colab-df-convert:hover {\n",
              "      background-color: #E2EBFA;\n",
              "      box-shadow: 0px 1px 2px rgba(60, 64, 67, 0.3), 0px 1px 3px 1px rgba(60, 64, 67, 0.15);\n",
              "      fill: #174EA6;\n",
              "    }\n",
              "\n",
              "    [theme=dark] .colab-df-convert {\n",
              "      background-color: #3B4455;\n",
              "      fill: #D2E3FC;\n",
              "    }\n",
              "\n",
              "    [theme=dark] .colab-df-convert:hover {\n",
              "      background-color: #434B5C;\n",
              "      box-shadow: 0px 1px 3px 1px rgba(0, 0, 0, 0.15);\n",
              "      filter: drop-shadow(0px 1px 2px rgba(0, 0, 0, 0.3));\n",
              "      fill: #FFFFFF;\n",
              "    }\n",
              "  </style>\n",
              "\n",
              "      <script>\n",
              "        const buttonEl =\n",
              "          document.querySelector('#df-f5344c7d-90d5-479b-ab7c-cbc60994a8f5 button.colab-df-convert');\n",
              "        buttonEl.style.display =\n",
              "          google.colab.kernel.accessAllowed ? 'block' : 'none';\n",
              "\n",
              "        async function convertToInteractive(key) {\n",
              "          const element = document.querySelector('#df-f5344c7d-90d5-479b-ab7c-cbc60994a8f5');\n",
              "          const dataTable =\n",
              "            await google.colab.kernel.invokeFunction('convertToInteractive',\n",
              "                                                     [key], {});\n",
              "          if (!dataTable) return;\n",
              "\n",
              "          const docLinkHtml = 'Like what you see? Visit the ' +\n",
              "            '<a target=\"_blank\" href=https://colab.research.google.com/notebooks/data_table.ipynb>data table notebook</a>'\n",
              "            + ' to learn more about interactive tables.';\n",
              "          element.innerHTML = '';\n",
              "          dataTable['output_type'] = 'display_data';\n",
              "          await google.colab.output.renderOutput(dataTable, element);\n",
              "          const docLink = document.createElement('div');\n",
              "          docLink.innerHTML = docLinkHtml;\n",
              "          element.appendChild(docLink);\n",
              "        }\n",
              "      </script>\n",
              "    </div>\n",
              "  </div>\n",
              "  "
            ]
          },
          "metadata": {},
          "execution_count": 3
        }
      ]
    },
    {
      "cell_type": "code",
      "source": [
        "mydata.columns"
      ],
      "metadata": {
        "colab": {
          "base_uri": "https://localhost:8080/"
        },
        "id": "H4Uoy8UCXl0w",
        "outputId": "34a28821-4f85-4bc8-facf-81e323421da2"
      },
      "execution_count": null,
      "outputs": [
        {
          "output_type": "execute_result",
          "data": {
            "text/plain": [
              "Index(['reviewId', 'content', 'score', 'thumbsUpCount', 'reviewCreatedVersion',\n",
              "       'at', 'replyContent', 'repliedAt', 'predicted_category', 'sentiment'],\n",
              "      dtype='object')"
            ]
          },
          "metadata": {},
          "execution_count": 4
        }
      ]
    },
    {
      "cell_type": "markdown",
      "source": [
        "Dapat dilihat dari output di atas bahwa terdapat sebanyak 10 variabel pada dataset tersebut."
      ],
      "metadata": {
        "id": "pBwP-dn28TBA"
      }
    },
    {
      "cell_type": "code",
      "source": [
        "print(\"Number of records: \", mydata.shape[0])\n",
        "print(\"Number of fields: \", mydata.shape[1])"
      ],
      "metadata": {
        "colab": {
          "base_uri": "https://localhost:8080/"
        },
        "id": "Ixin9oD7Xlx3",
        "outputId": "64514272-35dc-4f7b-9a3a-d30b19fb9290"
      },
      "execution_count": null,
      "outputs": [
        {
          "output_type": "stream",
          "name": "stdout",
          "text": [
            "Number of records:  45414\n",
            "Number of fields:  10\n"
          ]
        }
      ]
    },
    {
      "cell_type": "markdown",
      "source": [
        "Jumlah total pengamatan/observasi yaitu sebesar 45414 data dengan 10 variabel yang ada."
      ],
      "metadata": {
        "id": "wRFPqOnN8dG3"
      }
    },
    {
      "cell_type": "code",
      "source": [
        "mydata.info()"
      ],
      "metadata": {
        "colab": {
          "base_uri": "https://localhost:8080/"
        },
        "id": "3O8bfZsuYpuW",
        "outputId": "dc9873e5-ea4a-40d3-846d-9b0860027e32"
      },
      "execution_count": null,
      "outputs": [
        {
          "output_type": "stream",
          "name": "stdout",
          "text": [
            "<class 'pandas.core.frame.DataFrame'>\n",
            "RangeIndex: 45414 entries, 0 to 45413\n",
            "Data columns (total 10 columns):\n",
            " #   Column                Non-Null Count  Dtype \n",
            "---  ------                --------------  ----- \n",
            " 0   reviewId              45414 non-null  object\n",
            " 1   content               45414 non-null  object\n",
            " 2   score                 45414 non-null  int64 \n",
            " 3   thumbsUpCount         45414 non-null  int64 \n",
            " 4   reviewCreatedVersion  40367 non-null  object\n",
            " 5   at                    45414 non-null  object\n",
            " 6   replyContent          2477 non-null   object\n",
            " 7   repliedAt             2477 non-null   object\n",
            " 8   predicted_category    45414 non-null  object\n",
            " 9   sentiment             45414 non-null  object\n",
            "dtypes: int64(2), object(8)\n",
            "memory usage: 3.5+ MB\n"
          ]
        }
      ]
    },
    {
      "cell_type": "markdown",
      "source": [
        "Code di atas itu berguna untuk melihat banyaknya variabel terus tipe data dari masing - masing variabel."
      ],
      "metadata": {
        "id": "jWhQxa3Y8pF6"
      }
    },
    {
      "cell_type": "code",
      "source": [
        "mydata.describe()"
      ],
      "metadata": {
        "colab": {
          "base_uri": "https://localhost:8080/",
          "height": 300
        },
        "id": "Z0p9yGWPYpsF",
        "outputId": "c5cee765-84ce-4d98-cd32-029119e9d1ee"
      },
      "execution_count": null,
      "outputs": [
        {
          "output_type": "execute_result",
          "data": {
            "text/plain": [
              "              score  thumbsUpCount\n",
              "count  45414.000000   45414.000000\n",
              "mean       4.372859       1.918571\n",
              "std        1.204822      12.078805\n",
              "min        1.000000       0.000000\n",
              "25%        4.000000       0.000000\n",
              "50%        5.000000       0.000000\n",
              "75%        5.000000       1.000000\n",
              "max        5.000000     561.000000"
            ],
            "text/html": [
              "\n",
              "  <div id=\"df-c422e9e4-9074-4c62-b6d9-9f093df588f4\">\n",
              "    <div class=\"colab-df-container\">\n",
              "      <div>\n",
              "<style scoped>\n",
              "    .dataframe tbody tr th:only-of-type {\n",
              "        vertical-align: middle;\n",
              "    }\n",
              "\n",
              "    .dataframe tbody tr th {\n",
              "        vertical-align: top;\n",
              "    }\n",
              "\n",
              "    .dataframe thead th {\n",
              "        text-align: right;\n",
              "    }\n",
              "</style>\n",
              "<table border=\"1\" class=\"dataframe\">\n",
              "  <thead>\n",
              "    <tr style=\"text-align: right;\">\n",
              "      <th></th>\n",
              "      <th>score</th>\n",
              "      <th>thumbsUpCount</th>\n",
              "    </tr>\n",
              "  </thead>\n",
              "  <tbody>\n",
              "    <tr>\n",
              "      <th>count</th>\n",
              "      <td>45414.000000</td>\n",
              "      <td>45414.000000</td>\n",
              "    </tr>\n",
              "    <tr>\n",
              "      <th>mean</th>\n",
              "      <td>4.372859</td>\n",
              "      <td>1.918571</td>\n",
              "    </tr>\n",
              "    <tr>\n",
              "      <th>std</th>\n",
              "      <td>1.204822</td>\n",
              "      <td>12.078805</td>\n",
              "    </tr>\n",
              "    <tr>\n",
              "      <th>min</th>\n",
              "      <td>1.000000</td>\n",
              "      <td>0.000000</td>\n",
              "    </tr>\n",
              "    <tr>\n",
              "      <th>25%</th>\n",
              "      <td>4.000000</td>\n",
              "      <td>0.000000</td>\n",
              "    </tr>\n",
              "    <tr>\n",
              "      <th>50%</th>\n",
              "      <td>5.000000</td>\n",
              "      <td>0.000000</td>\n",
              "    </tr>\n",
              "    <tr>\n",
              "      <th>75%</th>\n",
              "      <td>5.000000</td>\n",
              "      <td>1.000000</td>\n",
              "    </tr>\n",
              "    <tr>\n",
              "      <th>max</th>\n",
              "      <td>5.000000</td>\n",
              "      <td>561.000000</td>\n",
              "    </tr>\n",
              "  </tbody>\n",
              "</table>\n",
              "</div>\n",
              "      <button class=\"colab-df-convert\" onclick=\"convertToInteractive('df-c422e9e4-9074-4c62-b6d9-9f093df588f4')\"\n",
              "              title=\"Convert this dataframe to an interactive table.\"\n",
              "              style=\"display:none;\">\n",
              "        \n",
              "  <svg xmlns=\"http://www.w3.org/2000/svg\" height=\"24px\"viewBox=\"0 0 24 24\"\n",
              "       width=\"24px\">\n",
              "    <path d=\"M0 0h24v24H0V0z\" fill=\"none\"/>\n",
              "    <path d=\"M18.56 5.44l.94 2.06.94-2.06 2.06-.94-2.06-.94-.94-2.06-.94 2.06-2.06.94zm-11 1L8.5 8.5l.94-2.06 2.06-.94-2.06-.94L8.5 2.5l-.94 2.06-2.06.94zm10 10l.94 2.06.94-2.06 2.06-.94-2.06-.94-.94-2.06-.94 2.06-2.06.94z\"/><path d=\"M17.41 7.96l-1.37-1.37c-.4-.4-.92-.59-1.43-.59-.52 0-1.04.2-1.43.59L10.3 9.45l-7.72 7.72c-.78.78-.78 2.05 0 2.83L4 21.41c.39.39.9.59 1.41.59.51 0 1.02-.2 1.41-.59l7.78-7.78 2.81-2.81c.8-.78.8-2.07 0-2.86zM5.41 20L4 18.59l7.72-7.72 1.47 1.35L5.41 20z\"/>\n",
              "  </svg>\n",
              "      </button>\n",
              "      \n",
              "  <style>\n",
              "    .colab-df-container {\n",
              "      display:flex;\n",
              "      flex-wrap:wrap;\n",
              "      gap: 12px;\n",
              "    }\n",
              "\n",
              "    .colab-df-convert {\n",
              "      background-color: #E8F0FE;\n",
              "      border: none;\n",
              "      border-radius: 50%;\n",
              "      cursor: pointer;\n",
              "      display: none;\n",
              "      fill: #1967D2;\n",
              "      height: 32px;\n",
              "      padding: 0 0 0 0;\n",
              "      width: 32px;\n",
              "    }\n",
              "\n",
              "    .colab-df-convert:hover {\n",
              "      background-color: #E2EBFA;\n",
              "      box-shadow: 0px 1px 2px rgba(60, 64, 67, 0.3), 0px 1px 3px 1px rgba(60, 64, 67, 0.15);\n",
              "      fill: #174EA6;\n",
              "    }\n",
              "\n",
              "    [theme=dark] .colab-df-convert {\n",
              "      background-color: #3B4455;\n",
              "      fill: #D2E3FC;\n",
              "    }\n",
              "\n",
              "    [theme=dark] .colab-df-convert:hover {\n",
              "      background-color: #434B5C;\n",
              "      box-shadow: 0px 1px 3px 1px rgba(0, 0, 0, 0.15);\n",
              "      filter: drop-shadow(0px 1px 2px rgba(0, 0, 0, 0.3));\n",
              "      fill: #FFFFFF;\n",
              "    }\n",
              "  </style>\n",
              "\n",
              "      <script>\n",
              "        const buttonEl =\n",
              "          document.querySelector('#df-c422e9e4-9074-4c62-b6d9-9f093df588f4 button.colab-df-convert');\n",
              "        buttonEl.style.display =\n",
              "          google.colab.kernel.accessAllowed ? 'block' : 'none';\n",
              "\n",
              "        async function convertToInteractive(key) {\n",
              "          const element = document.querySelector('#df-c422e9e4-9074-4c62-b6d9-9f093df588f4');\n",
              "          const dataTable =\n",
              "            await google.colab.kernel.invokeFunction('convertToInteractive',\n",
              "                                                     [key], {});\n",
              "          if (!dataTable) return;\n",
              "\n",
              "          const docLinkHtml = 'Like what you see? Visit the ' +\n",
              "            '<a target=\"_blank\" href=https://colab.research.google.com/notebooks/data_table.ipynb>data table notebook</a>'\n",
              "            + ' to learn more about interactive tables.';\n",
              "          element.innerHTML = '';\n",
              "          dataTable['output_type'] = 'display_data';\n",
              "          await google.colab.output.renderOutput(dataTable, element);\n",
              "          const docLink = document.createElement('div');\n",
              "          docLink.innerHTML = docLinkHtml;\n",
              "          element.appendChild(docLink);\n",
              "        }\n",
              "      </script>\n",
              "    </div>\n",
              "  </div>\n",
              "  "
            ]
          },
          "metadata": {},
          "execution_count": 7
        }
      ]
    },
    {
      "cell_type": "markdown",
      "source": [
        "Ini kenapa munculnya hanya 2? Hal ini dikarenakan dari 10 variabel yang ada di dataset, hanya variabel score dan thumbsUpCount saja yang memiliki tipe data berupa integer, sehingga kita bisa menghitung nilai tersebut."
      ],
      "metadata": {
        "id": "GffU5X0A8yv3"
      }
    },
    {
      "cell_type": "markdown",
      "source": [
        "## Data Preparation"
      ],
      "metadata": {
        "id": "XSWd1fOg9X4z"
      }
    },
    {
      "cell_type": "markdown",
      "source": [
        "Dari ke-10 variabel pada dataset. Saya hanya menggunakan variabel \"content\" dan \"sentiment\". Nah isi dari variabel \"content\" ini seperti kalimat - kalimat komentar sedangkan pada \"sentiment\" di klasifikasikan menjadi 3 yaitu \"NEUTRAL\" atau \"POSITIVE\" atau \"NEGATIVE\""
      ],
      "metadata": {
        "id": "FqkyPsq7BQ6i"
      }
    },
    {
      "cell_type": "code",
      "source": [
        "mydata = mydata[['content', 'sentiment']]\n",
        "mydata.isnull().sum()"
      ],
      "metadata": {
        "colab": {
          "base_uri": "https://localhost:8080/"
        },
        "id": "Dmdnn5ARYpoo",
        "outputId": "78d79e2a-5663-45b0-b559-7631f4694c40"
      },
      "execution_count": null,
      "outputs": [
        {
          "output_type": "execute_result",
          "data": {
            "text/plain": [
              "content      0\n",
              "sentiment    0\n",
              "dtype: int64"
            ]
          },
          "metadata": {},
          "execution_count": 8
        }
      ]
    },
    {
      "cell_type": "markdown",
      "source": [
        "Dapat dilihat bahwa tidak ada missing value di kedua variabel tersebut."
      ],
      "metadata": {
        "id": "bqVNXYCMBrDo"
      }
    },
    {
      "cell_type": "markdown",
      "source": [
        "Setelah itu, saya melakukan proses sampling yang hanya mengambil sebanyak 5000 data. Hal ini dikarenakan jumlah pengamatan yang mencapai angka 45414 yang dimana angka ini tergolong besar"
      ],
      "metadata": {
        "id": "pEl-e8AICsSX"
      }
    },
    {
      "cell_type": "code",
      "source": [
        "mydata = mydata.sample(5000)"
      ],
      "metadata": {
        "id": "t0DC9hMGYpmP"
      },
      "execution_count": null,
      "outputs": []
    },
    {
      "cell_type": "code",
      "source": [
        "print(\"Number of records: \", mydata.shape[0])\n",
        "print(\"Number of fields: \", mydata.shape[1])"
      ],
      "metadata": {
        "colab": {
          "base_uri": "https://localhost:8080/"
        },
        "id": "Cpu-o0xMYpjt",
        "outputId": "59465d49-2e26-4aa8-df2b-555d7e210641"
      },
      "execution_count": null,
      "outputs": [
        {
          "output_type": "stream",
          "name": "stdout",
          "text": [
            "Number of records:  5000\n",
            "Number of fields:  2\n"
          ]
        }
      ]
    },
    {
      "cell_type": "markdown",
      "source": [
        "Nah, dapat dilihat bahwa data yang akan saya pakai untuk proses LSTM pada Natural Language Processing sebanyak 5000 data dengan 2 variabel yaitu \"content\" dan \"sentiment\"."
      ],
      "metadata": {
        "id": "YgGYWstQDSlz"
      }
    },
    {
      "cell_type": "markdown",
      "source": [
        "### Data Cleaning"
      ],
      "metadata": {
        "id": "lXmgVb2nDhKx"
      }
    },
    {
      "cell_type": "markdown",
      "source": [
        "Proses membersihkan data. Ini termasuk dalam menghapus karakter khusus, angka, simbol yang tidak perlu dan menghentikan kata - kata. Juga diperlukan untuk mengubah kata - kata ke bentuk akarnya agar mudah ditafsirkan."
      ],
      "metadata": {
        "id": "_-OeLGNSDyEp"
      }
    },
    {
      "cell_type": "code",
      "source": [
        "def remove_html(x):\n",
        "    html=re.compile(r'<.*?>')\n",
        "    return html.sub(r'',x)\n",
        "\n",
        "def remove_emoji(x):\n",
        "    return emoji.replace_emoji(x, '')"
      ],
      "metadata": {
        "id": "bIK76TQ8PnGr"
      },
      "execution_count": null,
      "outputs": []
    },
    {
      "cell_type": "code",
      "source": [
        "def cleaning(df, stop_words):\n",
        "\n",
        "    df['content'] = df['content'].apply(lambda x: ' '.join(x.lower() for x in x.split()))\n",
        "\n",
        "    # Removing stop words\n",
        "    df['content'] = df['content'].apply(lambda x: ' '.join(x for x in x.split() if x not in stop_words))\n",
        "\n",
        "    # Lemmatization\n",
        "    df['content'] = df['content'].apply(lambda x: ' '.join([Word(x).lemmatize() for x in x.split()]))\n",
        "\n",
        "    # Menghapus tag html\n",
        "    df['content'] = df['content'].apply(lambda x: remove_html(x))\n",
        "\n",
        "    # Menghapus emoji (jika ada)\n",
        "    df['content'] = df['content'].apply(lambda x: remove_emoji(x))\n",
        "\n",
        "    # Menghapus spasi kosong\n",
        "    df['content'] = df['content'].apply(lambda x: x.strip())\n",
        "\n",
        "    return df\n",
        "\n",
        "stop_words = stopwords.words('english')\n",
        "\n",
        "mydata = cleaning(mydata, stop_words)"
      ],
      "metadata": {
        "id": "YUO866oEYphM"
      },
      "execution_count": null,
      "outputs": []
    },
    {
      "cell_type": "markdown",
      "source": [
        "### Data Visualization"
      ],
      "metadata": {
        "id": "t41EYeTfICJg"
      }
    },
    {
      "cell_type": "markdown",
      "source": [
        "Kali ini saya akan memvisualisasikan beberapa kata - kata umum dalam variabel \"content\". Ukuran setiap kata mewakili frekuensi kemunculannya dalam data."
      ],
      "metadata": {
        "id": "ctLbz6e8IEPI"
      }
    },
    {
      "cell_type": "code",
      "source": [
        "common_words=''\n",
        "for i in mydata.content:\n",
        "    i = str(i)\n",
        "    tokens = i.split()\n",
        "    common_words += \" \".join(tokens)+\" \"\n",
        "wordcloud = wordcloud.WordCloud().generate(common_words)\n",
        "plt.imshow(wordcloud, interpolation='bilinear')\n",
        "plt.axis(\"off\")\n",
        "plt.show()"
      ],
      "metadata": {
        "colab": {
          "base_uri": "https://localhost:8080/",
          "height": 198
        },
        "id": "gnkZXqGsa_cK",
        "outputId": "d4a90ff6-b346-4df0-c2e9-ffb686059808"
      },
      "execution_count": null,
      "outputs": [
        {
          "output_type": "display_data",
          "data": {
            "text/plain": [
              "<Figure size 432x288 with 1 Axes>"
            ],
            "image/png": "[encoded data removed]"
          },
          "metadata": {
            "needs_background": "light"
          }
        }
      ]
    },
    {
      "cell_type": "markdown",
      "source": [
        "Berdasarkan output gambar di atas, diketahui bahwa kata - kata seerti \"article, good, app\" adalah yang paling sering muncul di dalam variabel \"content\". Jadi semakin besar kata - katanya maka semakin sering dia muncul."
      ],
      "metadata": {
        "id": "XCwgqj_bIPIY"
      }
    },
    {
      "cell_type": "markdown",
      "source": [
        "### Label Encoding"
      ],
      "metadata": {
        "id": "POl6PwVSJYJS"
      }
    },
    {
      "cell_type": "markdown",
      "source": [
        "Selanjutnya masuk ke dalam tahapan Label Encoding. Dikarenakan pada variabel \"sentiment\" terdapat 3 kategori yaitu \"NEUTRAL\", \"POSITIVE\" atau \"NEGATIVE\" maka dilakukan Label encoding yang berguna untuk mengubah setiap nilai dalam kolom menjadi angka yang berurutan"
      ],
      "metadata": {
        "id": "cylIvrC6I4yB"
      }
    },
    {
      "cell_type": "code",
      "source": [
        "# Encoded the target column\n",
        "lb = LabelEncoder()\n",
        "mydata['sentiment'] = lb.fit_transform(mydata['sentiment'])"
      ],
      "metadata": {
        "id": "_b76IgFlbpWt"
      },
      "execution_count": null,
      "outputs": []
    },
    {
      "cell_type": "code",
      "source": [
        "mydata.head()"
      ],
      "metadata": {
        "colab": {
          "base_uri": "https://localhost:8080/",
          "height": 206
        },
        "id": "Vy_PSrnRWCD8",
        "outputId": "b70bd2d3-5433-4d2e-8699-b321a06e4f1f"
      },
      "execution_count": null,
      "outputs": [
        {
          "output_type": "execute_result",
          "data": {
            "text/plain": [
              "                                                 content  sentiment\n",
              "31308  uninstalling. ..used love app i'm going pay mo...          0\n",
              "28028                         good educative application          2\n",
              "14089  enjoy reading article find here. creator side,...          2\n",
              "18930                            good sharing point view          2\n",
              "24336                                      easy read go.          2"
            ],
            "text/html": [
              "\n",
              "  <div id=\"df-239b2ac0-9f93-409a-a060-af70a9093a49\">\n",
              "    <div class=\"colab-df-container\">\n",
              "      <div>\n",
              "<style scoped>\n",
              "    .dataframe tbody tr th:only-of-type {\n",
              "        vertical-align: middle;\n",
              "    }\n",
              "\n",
              "    .dataframe tbody tr th {\n",
              "        vertical-align: top;\n",
              "    }\n",
              "\n",
              "    .dataframe thead th {\n",
              "        text-align: right;\n",
              "    }\n",
              "</style>\n",
              "<table border=\"1\" class=\"dataframe\">\n",
              "  <thead>\n",
              "    <tr style=\"text-align: right;\">\n",
              "      <th></th>\n",
              "      <th>content</th>\n",
              "      <th>sentiment</th>\n",
              "    </tr>\n",
              "  </thead>\n",
              "  <tbody>\n",
              "    <tr>\n",
              "      <th>31308</th>\n",
              "      <td>uninstalling. ..used love app i'm going pay mo...</td>\n",
              "      <td>0</td>\n",
              "    </tr>\n",
              "    <tr>\n",
              "      <th>28028</th>\n",
              "      <td>good educative application</td>\n",
              "      <td>2</td>\n",
              "    </tr>\n",
              "    <tr>\n",
              "      <th>14089</th>\n",
              "      <td>enjoy reading article find here. creator side,...</td>\n",
              "      <td>2</td>\n",
              "    </tr>\n",
              "    <tr>\n",
              "      <th>18930</th>\n",
              "      <td>good sharing point view</td>\n",
              "      <td>2</td>\n",
              "    </tr>\n",
              "    <tr>\n",
              "      <th>24336</th>\n",
              "      <td>easy read go.</td>\n",
              "      <td>2</td>\n",
              "    </tr>\n",
              "  </tbody>\n",
              "</table>\n",
              "</div>\n",
              "      <button class=\"colab-df-convert\" onclick=\"convertToInteractive('df-239b2ac0-9f93-409a-a060-af70a9093a49')\"\n",
              "              title=\"Convert this dataframe to an interactive table.\"\n",
              "              style=\"display:none;\">\n",
              "        \n",
              "  <svg xmlns=\"http://www.w3.org/2000/svg\" height=\"24px\"viewBox=\"0 0 24 24\"\n",
              "       width=\"24px\">\n",
              "    <path d=\"M0 0h24v24H0V0z\" fill=\"none\"/>\n",
              "    <path d=\"M18.56 5.44l.94 2.06.94-2.06 2.06-.94-2.06-.94-.94-2.06-.94 2.06-2.06.94zm-11 1L8.5 8.5l.94-2.06 2.06-.94-2.06-.94L8.5 2.5l-.94 2.06-2.06.94zm10 10l.94 2.06.94-2.06 2.06-.94-2.06-.94-.94-2.06-.94 2.06-2.06.94z\"/><path d=\"M17.41 7.96l-1.37-1.37c-.4-.4-.92-.59-1.43-.59-.52 0-1.04.2-1.43.59L10.3 9.45l-7.72 7.72c-.78.78-.78 2.05 0 2.83L4 21.41c.39.39.9.59 1.41.59.51 0 1.02-.2 1.41-.59l7.78-7.78 2.81-2.81c.8-.78.8-2.07 0-2.86zM5.41 20L4 18.59l7.72-7.72 1.47 1.35L5.41 20z\"/>\n",
              "  </svg>\n",
              "      </button>\n",
              "      \n",
              "  <style>\n",
              "    .colab-df-container {\n",
              "      display:flex;\n",
              "      flex-wrap:wrap;\n",
              "      gap: 12px;\n",
              "    }\n",
              "\n",
              "    .colab-df-convert {\n",
              "      background-color: #E8F0FE;\n",
              "      border: none;\n",
              "      border-radius: 50%;\n",
              "      cursor: pointer;\n",
              "      display: none;\n",
              "      fill: #1967D2;\n",
              "      height: 32px;\n",
              "      padding: 0 0 0 0;\n",
              "      width: 32px;\n",
              "    }\n",
              "\n",
              "    .colab-df-convert:hover {\n",
              "      background-color: #E2EBFA;\n",
              "      box-shadow: 0px 1px 2px rgba(60, 64, 67, 0.3), 0px 1px 3px 1px rgba(60, 64, 67, 0.15);\n",
              "      fill: #174EA6;\n",
              "    }\n",
              "\n",
              "    [theme=dark] .colab-df-convert {\n",
              "      background-color: #3B4455;\n",
              "      fill: #D2E3FC;\n",
              "    }\n",
              "\n",
              "    [theme=dark] .colab-df-convert:hover {\n",
              "      background-color: #434B5C;\n",
              "      box-shadow: 0px 1px 3px 1px rgba(0, 0, 0, 0.15);\n",
              "      filter: drop-shadow(0px 1px 2px rgba(0, 0, 0, 0.3));\n",
              "      fill: #FFFFFF;\n",
              "    }\n",
              "  </style>\n",
              "\n",
              "      <script>\n",
              "        const buttonEl =\n",
              "          document.querySelector('#df-239b2ac0-9f93-409a-a060-af70a9093a49 button.colab-df-convert');\n",
              "        buttonEl.style.display =\n",
              "          google.colab.kernel.accessAllowed ? 'block' : 'none';\n",
              "\n",
              "        async function convertToInteractive(key) {\n",
              "          const element = document.querySelector('#df-239b2ac0-9f93-409a-a060-af70a9093a49');\n",
              "          const dataTable =\n",
              "            await google.colab.kernel.invokeFunction('convertToInteractive',\n",
              "                                                     [key], {});\n",
              "          if (!dataTable) return;\n",
              "\n",
              "          const docLinkHtml = 'Like what you see? Visit the ' +\n",
              "            '<a target=\"_blank\" href=https://colab.research.google.com/notebooks/data_table.ipynb>data table notebook</a>'\n",
              "            + ' to learn more about interactive tables.';\n",
              "          element.innerHTML = '';\n",
              "          dataTable['output_type'] = 'display_data';\n",
              "          await google.colab.output.renderOutput(dataTable, element);\n",
              "          const docLink = document.createElement('div');\n",
              "          docLink.innerHTML = docLinkHtml;\n",
              "          element.appendChild(docLink);\n",
              "        }\n",
              "      </script>\n",
              "    </div>\n",
              "  </div>\n",
              "  "
            ]
          },
          "metadata": {},
          "execution_count": 15
        }
      ]
    },
    {
      "cell_type": "code",
      "source": [
        "mydata.tail()"
      ],
      "metadata": {
        "colab": {
          "base_uri": "https://localhost:8080/",
          "height": 206
        },
        "id": "_lwfbX8uWx4V",
        "outputId": "16341c00-2720-419f-bf5d-b00ccd9424dc"
      },
      "execution_count": null,
      "outputs": [
        {
          "output_type": "execute_result",
          "data": {
            "text/plain": [
              "                                                 content  sentiment\n",
              "25173                      really good medium knowledge.          2\n",
              "26685  best way share personal experience knowledge. ...          2\n",
              "16549              great app reading stimulating content          2\n",
              "22974                  great way access premium content.          2\n",
              "16029                                               good          2"
            ],
            "text/html": [
              "\n",
              "  <div id=\"df-41f1805a-abb9-4cc3-81c2-2936ba836bc2\">\n",
              "    <div class=\"colab-df-container\">\n",
              "      <div>\n",
              "<style scoped>\n",
              "    .dataframe tbody tr th:only-of-type {\n",
              "        vertical-align: middle;\n",
              "    }\n",
              "\n",
              "    .dataframe tbody tr th {\n",
              "        vertical-align: top;\n",
              "    }\n",
              "\n",
              "    .dataframe thead th {\n",
              "        text-align: right;\n",
              "    }\n",
              "</style>\n",
              "<table border=\"1\" class=\"dataframe\">\n",
              "  <thead>\n",
              "    <tr style=\"text-align: right;\">\n",
              "      <th></th>\n",
              "      <th>content</th>\n",
              "      <th>sentiment</th>\n",
              "    </tr>\n",
              "  </thead>\n",
              "  <tbody>\n",
              "    <tr>\n",
              "      <th>25173</th>\n",
              "      <td>really good medium knowledge.</td>\n",
              "      <td>2</td>\n",
              "    </tr>\n",
              "    <tr>\n",
              "      <th>26685</th>\n",
              "      <td>best way share personal experience knowledge. ...</td>\n",
              "      <td>2</td>\n",
              "    </tr>\n",
              "    <tr>\n",
              "      <th>16549</th>\n",
              "      <td>great app reading stimulating content</td>\n",
              "      <td>2</td>\n",
              "    </tr>\n",
              "    <tr>\n",
              "      <th>22974</th>\n",
              "      <td>great way access premium content.</td>\n",
              "      <td>2</td>\n",
              "    </tr>\n",
              "    <tr>\n",
              "      <th>16029</th>\n",
              "      <td>good</td>\n",
              "      <td>2</td>\n",
              "    </tr>\n",
              "  </tbody>\n",
              "</table>\n",
              "</div>\n",
              "      <button class=\"colab-df-convert\" onclick=\"convertToInteractive('df-41f1805a-abb9-4cc3-81c2-2936ba836bc2')\"\n",
              "              title=\"Convert this dataframe to an interactive table.\"\n",
              "              style=\"display:none;\">\n",
              "        \n",
              "  <svg xmlns=\"http://www.w3.org/2000/svg\" height=\"24px\"viewBox=\"0 0 24 24\"\n",
              "       width=\"24px\">\n",
              "    <path d=\"M0 0h24v24H0V0z\" fill=\"none\"/>\n",
              "    <path d=\"M18.56 5.44l.94 2.06.94-2.06 2.06-.94-2.06-.94-.94-2.06-.94 2.06-2.06.94zm-11 1L8.5 8.5l.94-2.06 2.06-.94-2.06-.94L8.5 2.5l-.94 2.06-2.06.94zm10 10l.94 2.06.94-2.06 2.06-.94-2.06-.94-.94-2.06-.94 2.06-2.06.94z\"/><path d=\"M17.41 7.96l-1.37-1.37c-.4-.4-.92-.59-1.43-.59-.52 0-1.04.2-1.43.59L10.3 9.45l-7.72 7.72c-.78.78-.78 2.05 0 2.83L4 21.41c.39.39.9.59 1.41.59.51 0 1.02-.2 1.41-.59l7.78-7.78 2.81-2.81c.8-.78.8-2.07 0-2.86zM5.41 20L4 18.59l7.72-7.72 1.47 1.35L5.41 20z\"/>\n",
              "  </svg>\n",
              "      </button>\n",
              "      \n",
              "  <style>\n",
              "    .colab-df-container {\n",
              "      display:flex;\n",
              "      flex-wrap:wrap;\n",
              "      gap: 12px;\n",
              "    }\n",
              "\n",
              "    .colab-df-convert {\n",
              "      background-color: #E8F0FE;\n",
              "      border: none;\n",
              "      border-radius: 50%;\n",
              "      cursor: pointer;\n",
              "      display: none;\n",
              "      fill: #1967D2;\n",
              "      height: 32px;\n",
              "      padding: 0 0 0 0;\n",
              "      width: 32px;\n",
              "    }\n",
              "\n",
              "    .colab-df-convert:hover {\n",
              "      background-color: #E2EBFA;\n",
              "      box-shadow: 0px 1px 2px rgba(60, 64, 67, 0.3), 0px 1px 3px 1px rgba(60, 64, 67, 0.15);\n",
              "      fill: #174EA6;\n",
              "    }\n",
              "\n",
              "    [theme=dark] .colab-df-convert {\n",
              "      background-color: #3B4455;\n",
              "      fill: #D2E3FC;\n",
              "    }\n",
              "\n",
              "    [theme=dark] .colab-df-convert:hover {\n",
              "      background-color: #434B5C;\n",
              "      box-shadow: 0px 1px 3px 1px rgba(0, 0, 0, 0.15);\n",
              "      filter: drop-shadow(0px 1px 2px rgba(0, 0, 0, 0.3));\n",
              "      fill: #FFFFFF;\n",
              "    }\n",
              "  </style>\n",
              "\n",
              "      <script>\n",
              "        const buttonEl =\n",
              "          document.querySelector('#df-41f1805a-abb9-4cc3-81c2-2936ba836bc2 button.colab-df-convert');\n",
              "        buttonEl.style.display =\n",
              "          google.colab.kernel.accessAllowed ? 'block' : 'none';\n",
              "\n",
              "        async function convertToInteractive(key) {\n",
              "          const element = document.querySelector('#df-41f1805a-abb9-4cc3-81c2-2936ba836bc2');\n",
              "          const dataTable =\n",
              "            await google.colab.kernel.invokeFunction('convertToInteractive',\n",
              "                                                     [key], {});\n",
              "          if (!dataTable) return;\n",
              "\n",
              "          const docLinkHtml = 'Like what you see? Visit the ' +\n",
              "            '<a target=\"_blank\" href=https://colab.research.google.com/notebooks/data_table.ipynb>data table notebook</a>'\n",
              "            + ' to learn more about interactive tables.';\n",
              "          element.innerHTML = '';\n",
              "          dataTable['output_type'] = 'display_data';\n",
              "          await google.colab.output.renderOutput(dataTable, element);\n",
              "          const docLink = document.createElement('div');\n",
              "          docLink.innerHTML = docLinkHtml;\n",
              "          element.appendChild(docLink);\n",
              "        }\n",
              "      </script>\n",
              "    </div>\n",
              "  </div>\n",
              "  "
            ]
          },
          "metadata": {},
          "execution_count": 16
        }
      ]
    },
    {
      "cell_type": "markdown",
      "source": [
        "### Tokenizing"
      ],
      "metadata": {
        "id": "qgf9rTXuJbZB"
      }
    },
    {
      "cell_type": "markdown",
      "source": [
        "Tokenizing berguna untuk memecah kalimat - kalimat tersebut menjadi kata sehingga akan memudahkan proses analisis data."
      ],
      "metadata": {
        "id": "ohL-lOFDJdGM"
      }
    },
    {
      "cell_type": "code",
      "source": [
        "tokenizer = Tokenizer(num_words = 500, split = ' ')\n",
        "tokenizer.fit_on_texts(mydata['content'].values)\n",
        "X = tokenizer.texts_to_sequences(mydata['content'].values)\n",
        "X = pad_sequences(X)"
      ],
      "metadata": {
        "id": "UvP3JKPMbpVM"
      },
      "execution_count": null,
      "outputs": []
    },
    {
      "cell_type": "markdown",
      "source": [
        "\n",
        "\n",
        "*   num_words: Merupakan Hyperparameter yang mengacu pada jumlah kata yang harus dipertahankan berdasarkan frekuensi kata.\n",
        "*   Split: Hyperparameter ini mengacu pada pemisah yang digunakan dalam memisahkan kata di dalam kalimat.\n",
        "*   pad_sequence(): Fungsi ini digunakan untuk mengubah daftar urutan menjadi array NumPy 2D\n",
        "\n",
        "\n",
        "\n"
      ],
      "metadata": {
        "id": "lNyq6lvzKSFd"
      }
    },
    {
      "cell_type": "markdown",
      "source": [
        "### Model Arsitektur LSTM"
      ],
      "metadata": {
        "id": "ZWWD74zXK6o2"
      }
    },
    {
      "cell_type": "markdown",
      "source": [
        "Long Short Term Memory (LSTM) merupakan model varian dari RNN. LSTM ini muncul karena dapat mengingat informasi jangka panjang (Long Term dependency). LSTM ini menggantikan simpul hidden layer di RNN dengan sel LSTM yang berfungsi untuk menyimpan informasi sebelumnya. Dalam LSTM ini terdapat tiga gerbang yang mengendalikan penggunaan dan memperbarui informasi teks terdahulu. Tiga gerbang ini yaitu\n",
        "1. Forget Gate: Gerbang ini bertanggung jawab untuk memutuskan informasi mana yang disimpan untuk menghitung keadaan sel dan mana yang tidak relevan dapat dibuang.\n",
        "\n",
        "2. Input Gate: Memperbarui status sel dan memutuskan informasi mana yang penting dan mana yang tidak. Karena gerbang lupa membantu membuang informasi, gerbang input membantu menemukan informasi penting dan meyimpan data tertentu dalam memori yang relevan.\n",
        "\n",
        "3. Output Gate: Semua informasi yang diperoleh digunakan untuk menghitung keadaan sel baru. Status sel pertama dikalikan dengan output dari forget gate. Hal ini memiliki kemungkinan menjatuhkan nilai dalam  status sel jika dikalikan dengan nilai dan mendekati angka 0. Kemudian penambahan yang tepat dengan output dari input gate memperbarui status sel ke nilai baru yang dianggap relevan oleh jaringan saraf."
      ],
      "metadata": {
        "id": "daFR_hQeb24u"
      }
    },
    {
      "cell_type": "code",
      "source": [
        "model = Sequential()\n",
        "model.add(Embedding(500, 120, input_length = X.shape[1]))\n",
        "model.add(SpatialDropout1D(0.4))\n",
        "model.add(LSTM(176, dropout = 0.2, recurrent_dropout = 0.2))\n",
        "model.add(Dense(3, activation = 'softmax'))\n",
        "model.compile(loss = 'categorical_crossentropy', optimizer = 'adam', metrics = ['accuracy'])\n",
        "model.summary()"
      ],
      "metadata": {
        "colab": {
          "base_uri": "https://localhost:8080/"
        },
        "id": "d2zuiwhpbpOe",
        "outputId": "60be5bfd-c321-4232-d076-8937ad7ed90d"
      },
      "execution_count": null,
      "outputs": [
        {
          "output_type": "stream",
          "name": "stdout",
          "text": [
            "Model: \"sequential_1\"\n",
            "_________________________________________________________________\n",
            " Layer (type)                Output Shape              Param #   \n",
            "=================================================================\n",
            " embedding_1 (Embedding)     (None, 57, 120)           60000     \n",
            "                                                                 \n",
            " spatial_dropout1d_1 (Spatia  (None, 57, 120)          0         \n",
            " lDropout1D)                                                     \n",
            "                                                                 \n",
            " lstm_1 (LSTM)               (None, 176)               209088    \n",
            "                                                                 \n",
            " dense_1 (Dense)             (None, 3)                 531       \n",
            "                                                                 \n",
            "=================================================================\n",
            "Total params: 269,619\n",
            "Trainable params: 269,619\n",
            "Non-trainable params: 0\n",
            "_________________________________________________________________\n"
          ]
        }
      ]
    },
    {
      "cell_type": "markdown",
      "source": [
        "Disini saya ingin menjadikan variabel 'content' sebagai X sedangkan variabel 'sentiment' sebagai y. Dikarenakan variabel 'sentiment' sudah diubah ke dalam bentuk angka yaitu 0, 1 atau 2 maka kita bisa memanggilnya dengan code sebagai berikut. Setelah itu dilakukan split data dengan pembagian 30% untuk test size sisa 70% untuk train."
      ],
      "metadata": {
        "id": "u8edh4tATnca"
      }
    },
    {
      "cell_type": "code",
      "source": [
        "#Splitting the data into training and testing\n",
        "y = pd.get_dummies(mydata['sentiment'])\n",
        "X_train, X_test, y_train, y_test = train_test_split(X, y, test_size = 0.3, random_state = 42)"
      ],
      "metadata": {
        "id": "4IBWsGj3bpLi"
      },
      "execution_count": null,
      "outputs": []
    },
    {
      "cell_type": "markdown",
      "source": [
        "### Result"
      ],
      "metadata": {
        "id": "B--4MShdIPM_"
      }
    },
    {
      "cell_type": "code",
      "source": [
        "model.compile(loss='binary_crossentropy',\n",
        "              optimizer=\"adam\",\n",
        "              metrics=['accuracy'])\n",
        "\n",
        "history = model.fit(X_train, y_train, batch_size = 32, epochs=10, validation_data=(X_test, y_test), verbose=1)"
      ],
      "metadata": {
        "colab": {
          "base_uri": "https://localhost:8080/"
        },
        "id": "22hyFHVkFceG",
        "outputId": "973a1d4d-fa44-453d-e714-9b809b7bdc60"
      },
      "execution_count": null,
      "outputs": [
        {
          "output_type": "stream",
          "name": "stdout",
          "text": [
            "Epoch 1/10\n",
            "110/110 [==============================] - 36s 276ms/step - loss: 0.4371 - accuracy: 0.7489 - val_loss: 0.3550 - val_accuracy: 0.7847\n",
            "Epoch 2/10\n",
            "110/110 [==============================] - 29s 269ms/step - loss: 0.2744 - accuracy: 0.8234 - val_loss: 0.2493 - val_accuracy: 0.8400\n",
            "Epoch 3/10\n",
            "110/110 [==============================] - 33s 297ms/step - loss: 0.2139 - accuracy: 0.8617 - val_loss: 0.2442 - val_accuracy: 0.8433\n",
            "Epoch 4/10\n",
            "110/110 [==============================] - 38s 345ms/step - loss: 0.1988 - accuracy: 0.8720 - val_loss: 0.2500 - val_accuracy: 0.8353\n",
            "Epoch 5/10\n",
            "110/110 [==============================] - 30s 269ms/step - loss: 0.1842 - accuracy: 0.8846 - val_loss: 0.2604 - val_accuracy: 0.8367\n",
            "Epoch 6/10\n",
            "110/110 [==============================] - 28s 256ms/step - loss: 0.1736 - accuracy: 0.8877 - val_loss: 0.2663 - val_accuracy: 0.8380\n",
            "Epoch 7/10\n",
            "110/110 [==============================] - 29s 267ms/step - loss: 0.1645 - accuracy: 0.8977 - val_loss: 0.2791 - val_accuracy: 0.8327\n",
            "Epoch 8/10\n",
            "110/110 [==============================] - 28s 256ms/step - loss: 0.1610 - accuracy: 0.8943 - val_loss: 0.2758 - val_accuracy: 0.8227\n",
            "Epoch 9/10\n",
            "110/110 [==============================] - 28s 256ms/step - loss: 0.1553 - accuracy: 0.9034 - val_loss: 0.2897 - val_accuracy: 0.8280\n",
            "Epoch 10/10\n",
            "110/110 [==============================] - 37s 337ms/step - loss: 0.1489 - accuracy: 0.9060 - val_loss: 0.2940 - val_accuracy: 0.8373\n"
          ]
        }
      ]
    },
    {
      "cell_type": "code",
      "source": [
        "model.evaluate(X_test,y_test)"
      ],
      "metadata": {
        "colab": {
          "base_uri": "https://localhost:8080/"
        },
        "id": "tgmzBFAWG2kX",
        "outputId": "b29c52bb-d756-4e0f-cb41-bbe54a71e38a"
      },
      "execution_count": null,
      "outputs": [
        {
          "output_type": "stream",
          "name": "stdout",
          "text": [
            "47/47 [==============================] - 2s 33ms/step - loss: 0.2940 - accuracy: 0.8373\n"
          ]
        },
        {
          "output_type": "execute_result",
          "data": {
            "text/plain": [
              "[0.29402658343315125, 0.8373333215713501]"
            ]
          },
          "metadata": {},
          "execution_count": 26
        }
      ]
    },
    {
      "cell_type": "markdown",
      "source": [
        "Model akurasi yang dihasilkan yaitu sebesar 0.83 atau 83%"
      ],
      "metadata": {
        "id": "ZmYUIaUOJQXl"
      }
    },
    {
      "cell_type": "code",
      "source": [
        "y_pred = model.predict(X_test)\n",
        "y_pred = np.where(y_pred>0.5, 1, 0)"
      ],
      "metadata": {
        "colab": {
          "base_uri": "https://localhost:8080/"
        },
        "id": "TGPAwe2pG2iQ",
        "outputId": "284115ce-a347-43b1-e352-624e217ccdb5"
      },
      "execution_count": null,
      "outputs": [
        {
          "output_type": "stream",
          "name": "stdout",
          "text": [
            "47/47 [==============================] - 3s 55ms/step\n"
          ]
        }
      ]
    },
    {
      "cell_type": "code",
      "source": [
        "print(classification_report(y_test, y_pred))"
      ],
      "metadata": {
        "colab": {
          "base_uri": "https://localhost:8080/"
        },
        "id": "yaqgtrv_G2gF",
        "outputId": "f7bbfcc6-fa49-462f-daab-0c484580a7a2"
      },
      "execution_count": null,
      "outputs": [
        {
          "output_type": "stream",
          "name": "stdout",
          "text": [
            "              precision    recall  f1-score   support\n",
            "\n",
            "           0       0.63      0.59      0.61       157\n",
            "           1       0.56      0.48      0.52       190\n",
            "           2       0.91      0.92      0.91      1153\n",
            "\n",
            "   micro avg       0.84      0.83      0.84      1500\n",
            "   macro avg       0.70      0.66      0.68      1500\n",
            "weighted avg       0.83      0.83      0.83      1500\n",
            " samples avg       0.83      0.83      0.83      1500\n",
            "\n"
          ]
        },
        {
          "output_type": "stream",
          "name": "stderr",
          "text": [
            "/usr/local/lib/python3.8/dist-packages/sklearn/metrics/_classification.py:1318: UndefinedMetricWarning: Precision and F-score are ill-defined and being set to 0.0 in samples with no predicted labels. Use `zero_division` parameter to control this behavior.\n",
            "  _warn_prf(average, modifier, msg_start, len(result))\n"
          ]
        }
      ]
    },
    {
      "cell_type": "markdown",
      "source": [
        "Output di atas juga memunculkan nilai precision, recall, f1-score serta nilai support untuk masing - masing kategori dari variabel \"sentiment\"."
      ],
      "metadata": {
        "id": "tUNM4PrsawNH"
      }
    },
    {
      "cell_type": "markdown",
      "source": [
        "### Referensi:\n",
        "https://www.analyticsvidhya.com/blog/2021/06/natural-language-processing-sentiment-analysis-using-lstm/\n",
        "\n",
        "https://www.kaggle.com/code/arunrk7/nlp-beginner-text-classification-using-lstm\n",
        "\n",
        "https://rifqifai.com/cara-kerja-long-short-term-memory-lstm/\n",
        "\n",
        "https://www.analyticsvidhya.com/blog/2021/06/lstm-for-text-classification/#:~:text=it%20be%20used%3F-,What%20is%20LSTM%3F,patterns%20LSTMs%20perform%20fairly%20better."
      ],
      "metadata": {
        "id": "NPWo7homaGRb"
      }
    }
  ]
}